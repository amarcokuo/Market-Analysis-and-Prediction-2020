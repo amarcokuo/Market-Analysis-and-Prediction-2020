{
 "cells": [
  {
   "cell_type": "markdown",
   "metadata": {},
   "source": [
    "# K Nearest Neighbors with Python"
   ]
  },
  {
   "cell_type": "markdown",
   "metadata": {},
   "source": [
    "## Import Libraries\n",
    "\n"
   ]
  },
  {
   "cell_type": "code",
   "execution_count": null,
   "metadata": {
    "ExecuteTime": {
     "end_time": "2020-04-20T14:43:14.054628Z",
     "start_time": "2020-04-20T14:43:12.275237Z"
    }
   },
   "outputs": [],
   "source": [
    "import pandas as pd\n",
    "import seaborn as sns\n",
    "import matplotlib.pyplot as plt\n",
    "import numpy as np\n",
    "from sklearn import datasets, neighbors\n",
    "\n",
    "# !pip install mlxtend (you might need this one)\n",
    "from mlxtend.plotting import plot_decision_regions\n",
    "\n",
    "\n",
    "import seaborn as sns\n",
    "\n",
    "%matplotlib inline"
   ]
  },
  {
   "cell_type": "markdown",
   "metadata": {},
   "source": [
    "## Getting Data"
   ]
  },
  {
   "cell_type": "code",
   "execution_count": null,
   "metadata": {
    "ExecuteTime": {
     "end_time": "2020-04-20T14:43:14.062610Z",
     "start_time": "2020-04-20T14:43:14.055631Z"
    }
   },
   "outputs": [],
   "source": [
    "ushape = pd.read_csv('ushape.csv')"
   ]
  },
  {
   "cell_type": "code",
   "execution_count": null,
   "metadata": {
    "ExecuteTime": {
     "end_time": "2020-04-20T14:43:14.079573Z",
     "start_time": "2020-04-20T14:43:14.064603Z"
    }
   },
   "outputs": [],
   "source": [
    "ushape.head()"
   ]
  },
  {
   "cell_type": "markdown",
   "metadata": {},
   "source": [
    "### Seaborn pairplot is very useful. "
   ]
  },
  {
   "cell_type": "code",
   "execution_count": null,
   "metadata": {
    "ExecuteTime": {
     "end_time": "2020-04-20T14:43:15.240916Z",
     "start_time": "2020-04-20T14:43:14.083561Z"
    }
   },
   "outputs": [],
   "source": [
    "sns.pairplot(ushape, hue='class')"
   ]
  },
  {
   "cell_type": "code",
   "execution_count": null,
   "metadata": {
    "ExecuteTime": {
     "end_time": "2020-04-20T14:48:06.957220Z",
     "start_time": "2020-04-20T14:48:06.800457Z"
    }
   },
   "outputs": [],
   "source": [
    "sns.scatterplot('X', 'Y' , hue='class', data=ushape)"
   ]
  },
  {
   "cell_type": "code",
   "execution_count": null,
   "metadata": {
    "ExecuteTime": {
     "end_time": "2020-04-20T14:43:15.390506Z",
     "start_time": "2020-04-20T14:43:15.242900Z"
    }
   },
   "outputs": [],
   "source": [
    "plt.style.use('ggplot')\n",
    "ushape.plot.scatter('X', 'Y', c=np.where(ushape['class']==1,'tab:orange','tab:purple'))"
   ]
  },
  {
   "cell_type": "code",
   "execution_count": null,
   "metadata": {
    "ExecuteTime": {
     "end_time": "2020-04-20T14:43:15.563053Z",
     "start_time": "2020-04-20T14:43:15.391504Z"
    }
   },
   "outputs": [],
   "source": [
    "linearsep = pd.read_csv('linearsep.csv')\n",
    "linearsep.plot.scatter('X', 'Y', c=np.where(linearsep['class']==1.0,'tab:orange','tab:purple'))"
   ]
  },
  {
   "cell_type": "code",
   "execution_count": null,
   "metadata": {
    "ExecuteTime": {
     "end_time": "2020-04-20T14:43:15.706689Z",
     "start_time": "2020-04-20T14:43:15.565039Z"
    }
   },
   "outputs": [],
   "source": [
    "xor = pd.read_csv('xor.csv')\n",
    "xor.plot.scatter('X', 'Y', c=np.where(xor['class']==1.0,'tab:orange','tab:purple'))"
   ]
  },
  {
   "cell_type": "markdown",
   "metadata": {},
   "source": [
    "### Decision Region Function\n",
    "\n",
    "- Here I try to visualize the decision regions for only two attributes. \n",
    "- Different parameters of $k$ are used. "
   ]
  },
  {
   "cell_type": "code",
   "execution_count": null,
   "metadata": {
    "ExecuteTime": {
     "end_time": "2020-04-20T14:43:15.714637Z",
     "start_time": "2020-04-20T14:43:15.708654Z"
    }
   },
   "outputs": [],
   "source": [
    "def knn_comparison(data, k):\n",
    "    \n",
    "    x = data[['X','Y']].values\n",
    "    y = data['class'].astype(int).values\n",
    "    \n",
    "    \n",
    "    # KNN classification using k\n",
    "    clf = neighbors.KNeighborsClassifier(n_neighbors=k)\n",
    "    clf.fit(x, y)\n",
    "    \n",
    "    # Plotting decision region\n",
    "    plot_decision_regions(x, y, clf=clf, legend=2)\n",
    "    \n",
    "    # Adding axes annotations\n",
    "    plt.xlabel('X')\n",
    "    plt.ylabel('Y')\n",
    "    plt.title('Knn with K='+ str(k))\n",
    "    \n",
    "    plt.show()"
   ]
  },
  {
   "cell_type": "code",
   "execution_count": null,
   "metadata": {
    "ExecuteTime": {
     "end_time": "2020-04-20T14:43:27.068272Z",
     "start_time": "2020-04-20T14:43:15.715635Z"
    }
   },
   "outputs": [],
   "source": [
    "for i in range(2, 10, 2):\n",
    "    knn_comparison(ushape, i)"
   ]
  },
  {
   "cell_type": "code",
   "execution_count": null,
   "metadata": {
    "ExecuteTime": {
     "end_time": "2020-04-20T14:43:38.432045Z",
     "start_time": "2020-04-20T14:43:27.069245Z"
    }
   },
   "outputs": [],
   "source": [
    "for i in range(2, 10, 2):\n",
    "    knn_comparison(linearsep, i)"
   ]
  },
  {
   "cell_type": "markdown",
   "metadata": {},
   "source": [
    "## Multiple Attributes \n",
    "Set index_col=0 to use the first column as the index."
   ]
  },
  {
   "cell_type": "code",
   "execution_count": null,
   "metadata": {
    "ExecuteTime": {
     "end_time": "2020-04-20T14:43:38.443998Z",
     "start_time": "2020-04-20T14:43:38.434023Z"
    }
   },
   "outputs": [],
   "source": [
    "df = pd.read_csv(\"Classified Data.csv\",index_col=0)"
   ]
  },
  {
   "cell_type": "code",
   "execution_count": null,
   "metadata": {
    "ExecuteTime": {
     "end_time": "2020-04-20T14:43:38.490249Z",
     "start_time": "2020-04-20T14:43:38.445867Z"
    }
   },
   "outputs": [],
   "source": [
    "df.describe()"
   ]
  },
  {
   "cell_type": "code",
   "execution_count": null,
   "metadata": {
    "ExecuteTime": {
     "end_time": "2020-04-20T14:43:38.708692Z",
     "start_time": "2020-04-20T14:43:38.491247Z"
    }
   },
   "outputs": [],
   "source": [
    "# colors = np.where(df[\"TARGET CLASS\"]==1,'g','b')\n",
    "\n",
    "df.plot.scatter('WTT', 'PTI', c=np.where(df[\"TARGET CLASS\"]==1,'tab:orange','tab:purple'))"
   ]
  },
  {
   "cell_type": "code",
   "execution_count": null,
   "metadata": {
    "ExecuteTime": {
     "end_time": "2020-04-20T14:43:38.727617Z",
     "start_time": "2020-04-20T14:43:38.710669Z"
    }
   },
   "outputs": [],
   "source": [
    "df.head()"
   ]
  },
  {
   "cell_type": "markdown",
   "metadata": {},
   "source": [
    "## Standardize the Variables\n",
    "\n",
    "Because the KNN classifier predicts the class of a given test observation by identifying the observations that are nearest to it, the scale of the variables matters. Any variables that are on a large scale will have a much larger effect on the distance between the observations, and hence on the KNN classifier, than variables that are on a small scale."
   ]
  },
  {
   "cell_type": "code",
   "execution_count": null,
   "metadata": {
    "ExecuteTime": {
     "end_time": "2020-04-20T14:43:38.733635Z",
     "start_time": "2020-04-20T14:43:38.728612Z"
    }
   },
   "outputs": [],
   "source": [
    "from sklearn.preprocessing import StandardScaler"
   ]
  },
  {
   "cell_type": "code",
   "execution_count": null,
   "metadata": {
    "ExecuteTime": {
     "end_time": "2020-04-20T14:43:38.741601Z",
     "start_time": "2020-04-20T14:43:38.736591Z"
    }
   },
   "outputs": [],
   "source": [
    "scaler = StandardScaler()"
   ]
  },
  {
   "cell_type": "code",
   "execution_count": null,
   "metadata": {
    "ExecuteTime": {
     "end_time": "2020-04-20T14:43:38.757538Z",
     "start_time": "2020-04-20T14:43:38.745568Z"
    }
   },
   "outputs": [],
   "source": [
    "scaler.fit(df.drop('TARGET CLASS',axis=1))"
   ]
  },
  {
   "cell_type": "code",
   "execution_count": null,
   "metadata": {
    "ExecuteTime": {
     "end_time": "2020-04-20T14:43:38.770501Z",
     "start_time": "2020-04-20T14:43:38.760541Z"
    }
   },
   "outputs": [],
   "source": [
    "scaled_features = scaler.transform(df.drop('TARGET CLASS',axis=1))"
   ]
  },
  {
   "cell_type": "code",
   "execution_count": null,
   "metadata": {
    "ExecuteTime": {
     "end_time": "2020-04-20T14:43:38.780503Z",
     "start_time": "2020-04-20T14:43:38.772496Z"
    }
   },
   "outputs": [],
   "source": [
    "scaled_features"
   ]
  },
  {
   "cell_type": "code",
   "execution_count": null,
   "metadata": {
    "ExecuteTime": {
     "end_time": "2020-04-20T14:43:38.788457Z",
     "start_time": "2020-04-20T14:43:38.782469Z"
    }
   },
   "outputs": [],
   "source": [
    "df.columns[:-1]"
   ]
  },
  {
   "cell_type": "code",
   "execution_count": null,
   "metadata": {
    "ExecuteTime": {
     "end_time": "2020-04-20T14:43:38.807413Z",
     "start_time": "2020-04-20T14:43:38.790450Z"
    }
   },
   "outputs": [],
   "source": [
    "df_feat = pd.DataFrame(scaled_features,columns=df.columns[:-1])\n",
    "df_feat.head()"
   ]
  },
  {
   "cell_type": "markdown",
   "metadata": {},
   "source": [
    "## Train Test Split"
   ]
  },
  {
   "cell_type": "code",
   "execution_count": null,
   "metadata": {
    "ExecuteTime": {
     "end_time": "2020-04-20T14:43:38.815384Z",
     "start_time": "2020-04-20T14:43:38.810417Z"
    }
   },
   "outputs": [],
   "source": [
    "from sklearn.model_selection import train_test_split"
   ]
  },
  {
   "cell_type": "code",
   "execution_count": null,
   "metadata": {
    "ExecuteTime": {
     "end_time": "2020-04-20T14:43:38.828873Z",
     "start_time": "2020-04-20T14:43:38.821871Z"
    }
   },
   "outputs": [],
   "source": [
    "X_train, X_test, y_train, y_test = train_test_split(df_feat, df['TARGET CLASS'],test_size=0.30, random_state = 421)"
   ]
  },
  {
   "cell_type": "markdown",
   "metadata": {},
   "source": [
    "## Using KNN\n",
    "\n",
    "Remember that we are trying to come up with a model to predict whether someone will TARGET CLASS or not. We'll start with k=1."
   ]
  },
  {
   "cell_type": "code",
   "execution_count": null,
   "metadata": {
    "ExecuteTime": {
     "end_time": "2020-04-20T14:43:38.838828Z",
     "start_time": "2020-04-20T14:43:38.833864Z"
    }
   },
   "outputs": [],
   "source": [
    "from sklearn.neighbors import KNeighborsClassifier"
   ]
  },
  {
   "cell_type": "code",
   "execution_count": null,
   "metadata": {
    "ExecuteTime": {
     "end_time": "2020-04-20T14:43:38.846798Z",
     "start_time": "2020-04-20T14:43:38.840815Z"
    }
   },
   "outputs": [],
   "source": [
    "knn = KNeighborsClassifier(n_neighbors=1)"
   ]
  },
  {
   "cell_type": "code",
   "execution_count": null,
   "metadata": {
    "ExecuteTime": {
     "end_time": "2020-04-20T14:43:38.859762Z",
     "start_time": "2020-04-20T14:43:38.849791Z"
    }
   },
   "outputs": [],
   "source": [
    "knn.fit(X_train,y_train)"
   ]
  },
  {
   "cell_type": "code",
   "execution_count": null,
   "metadata": {
    "ExecuteTime": {
     "end_time": "2020-04-20T14:43:38.880707Z",
     "start_time": "2020-04-20T14:43:38.861756Z"
    }
   },
   "outputs": [],
   "source": [
    "pred = knn.predict(X_test)"
   ]
  },
  {
   "cell_type": "markdown",
   "metadata": {},
   "source": [
    "## Predictions and Evaluations\n",
    "\n",
    "Let's evaluate our KNN model!"
   ]
  },
  {
   "cell_type": "code",
   "execution_count": null,
   "metadata": {
    "ExecuteTime": {
     "end_time": "2020-04-20T14:43:38.885698Z",
     "start_time": "2020-04-20T14:43:38.881705Z"
    }
   },
   "outputs": [],
   "source": [
    "from sklearn.metrics import classification_report,confusion_matrix"
   ]
  },
  {
   "cell_type": "code",
   "execution_count": null,
   "metadata": {
    "ExecuteTime": {
     "end_time": "2020-04-20T14:43:38.896672Z",
     "start_time": "2020-04-20T14:43:38.888688Z"
    }
   },
   "outputs": [],
   "source": [
    "print(confusion_matrix(y_test,pred))"
   ]
  },
  {
   "cell_type": "code",
   "execution_count": null,
   "metadata": {
    "ExecuteTime": {
     "end_time": "2020-04-20T14:43:38.906639Z",
     "start_time": "2020-04-20T14:43:38.899659Z"
    }
   },
   "outputs": [],
   "source": [
    "len(pred)"
   ]
  },
  {
   "cell_type": "code",
   "execution_count": null,
   "metadata": {
    "ExecuteTime": {
     "end_time": "2020-04-20T14:43:38.919124Z",
     "start_time": "2020-04-20T14:43:38.909640Z"
    }
   },
   "outputs": [],
   "source": [
    "print(classification_report(y_test,pred))"
   ]
  },
  {
   "cell_type": "markdown",
   "metadata": {},
   "source": [
    "## Choosing a K Value\n",
    "\n",
    "Let's go ahead and use the elbow method to pick a good K Value:"
   ]
  },
  {
   "cell_type": "code",
   "execution_count": null,
   "metadata": {
    "ExecuteTime": {
     "end_time": "2020-04-20T14:43:39.543963Z",
     "start_time": "2020-04-20T14:43:38.921115Z"
    }
   },
   "outputs": [],
   "source": [
    "error_rate = []\n",
    "\n",
    "# Will take some time\n",
    "for i in range(1,40):\n",
    "    \n",
    "    knn = KNeighborsClassifier(n_neighbors=i)\n",
    "    knn.fit(X_train,y_train)\n",
    "    pred_i = knn.predict(X_test)\n",
    "    error_rate.append(np.mean(pred_i != y_test))"
   ]
  },
  {
   "cell_type": "code",
   "execution_count": null,
   "metadata": {
    "ExecuteTime": {
     "end_time": "2020-04-20T14:43:39.550945Z",
     "start_time": "2020-04-20T14:43:39.545958Z"
    }
   },
   "outputs": [],
   "source": [
    "error_rate\n",
    "\n",
    "# not very readable with the list, could use some visualizations"
   ]
  },
  {
   "cell_type": "code",
   "execution_count": null,
   "metadata": {
    "ExecuteTime": {
     "end_time": "2020-04-20T14:43:39.723514Z",
     "start_time": "2020-04-20T14:43:39.551940Z"
    }
   },
   "outputs": [],
   "source": [
    "# make it bigger\n",
    "plt.figure(figsize=(10,6))\n",
    "\n",
    "plt.plot(range(1,40), error_rate, color='blue', linestyle='dashed', marker='o', markerfacecolor='red', markersize=10)\n",
    "plt.title('Error Rate vs. K Value')\n",
    "plt.xlabel('K')\n",
    "plt.ylabel('Error Rate')"
   ]
  },
  {
   "cell_type": "markdown",
   "metadata": {},
   "source": [
    "Here we can see that that after arouns K>23 the error rate just tends to hover around 0.06-0.05 Let's retrain the model with that and check the classification report!"
   ]
  },
  {
   "cell_type": "code",
   "execution_count": null,
   "metadata": {
    "ExecuteTime": {
     "end_time": "2020-04-20T14:43:39.754406Z",
     "start_time": "2020-04-20T14:43:39.726479Z"
    }
   },
   "outputs": [],
   "source": [
    "# FIRST A QUICK COMPARISON TO OUR ORIGINAL K=1\n",
    "knn = KNeighborsClassifier(n_neighbors=1)\n",
    "\n",
    "knn.fit(X_train,y_train)\n",
    "pred = knn.predict(X_test)\n",
    "\n",
    "print('WITH K=1')\n",
    "print('\\n')\n",
    "print(confusion_matrix(y_test,pred))\n",
    "print('\\n')\n",
    "print(classification_report(y_test,pred))"
   ]
  },
  {
   "cell_type": "code",
   "execution_count": null,
   "metadata": {
    "ExecuteTime": {
     "end_time": "2020-04-20T14:43:39.788313Z",
     "start_time": "2020-04-20T14:43:39.756395Z"
    }
   },
   "outputs": [],
   "source": [
    "# NOW WITH K=26\n",
    "knn = KNeighborsClassifier(n_neighbors=26)\n",
    "\n",
    "knn.fit(X_train,y_train)\n",
    "pred = knn.predict(X_test)\n",
    "\n",
    "print('WITH K=23')\n",
    "print('\\n')\n",
    "print(confusion_matrix(y_test,pred))\n",
    "print('\\n')\n",
    "print(classification_report(y_test,pred))"
   ]
  }
 ],
 "metadata": {
  "kernelspec": {
   "display_name": "Python 3",
   "language": "python",
   "name": "python3"
  },
  "language_info": {
   "codemirror_mode": {
    "name": "ipython",
    "version": 3
   },
   "file_extension": ".py",
   "mimetype": "text/x-python",
   "name": "python",
   "nbconvert_exporter": "python",
   "pygments_lexer": "ipython3",
   "version": "3.7.6"
  },
  "varInspector": {
   "cols": {
    "lenName": 16,
    "lenType": 16,
    "lenVar": 40
   },
   "kernels_config": {
    "python": {
     "delete_cmd_postfix": "",
     "delete_cmd_prefix": "del ",
     "library": "var_list.py",
     "varRefreshCmd": "print(var_dic_list())"
    },
    "r": {
     "delete_cmd_postfix": ") ",
     "delete_cmd_prefix": "rm(",
     "library": "var_list.r",
     "varRefreshCmd": "cat(var_dic_list()) "
    }
   },
   "types_to_exclude": [
    "module",
    "function",
    "builtin_function_or_method",
    "instance",
    "_Feature"
   ],
   "window_display": false
  }
 },
 "nbformat": 4,
 "nbformat_minor": 1
}
