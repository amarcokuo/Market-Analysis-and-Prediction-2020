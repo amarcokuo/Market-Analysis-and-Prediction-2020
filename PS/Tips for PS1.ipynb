{
 "cells": [
  {
   "cell_type": "markdown",
   "metadata": {
    "ExecuteTime": {
     "end_time": "2020-03-20T05:02:51.166107Z",
     "start_time": "2020-03-20T05:02:51.162119Z"
    }
   },
   "source": [
    "Q1"
   ]
  },
  {
   "cell_type": "code",
   "execution_count": 2,
   "metadata": {
    "ExecuteTime": {
     "end_time": "2020-03-22T05:23:28.964250Z",
     "start_time": "2020-03-22T05:23:28.961259Z"
    }
   },
   "outputs": [],
   "source": [
    "import numpy as np\n",
    "import pandas as pd"
   ]
  },
  {
   "cell_type": "code",
   "execution_count": 14,
   "metadata": {
    "ExecuteTime": {
     "end_time": "2020-03-20T05:06:00.982067Z",
     "start_time": "2020-03-20T05:06:00.978073Z"
    }
   },
   "outputs": [],
   "source": [
    "a = pd.Series(np.random.randn(10))"
   ]
  },
  {
   "cell_type": "code",
   "execution_count": 15,
   "metadata": {
    "ExecuteTime": {
     "end_time": "2020-03-20T05:06:01.502524Z",
     "start_time": "2020-03-20T05:06:01.496540Z"
    }
   },
   "outputs": [
    {
     "data": {
      "text/plain": [
       "0   -0.582338\n",
       "1   -1.054127\n",
       "2   -0.907447\n",
       "3   -0.315833\n",
       "4   -0.269426\n",
       "5   -1.044460\n",
       "6   -0.897846\n",
       "7   -0.363493\n",
       "8   -0.938175\n",
       "9    0.305084\n",
       "dtype: float64"
      ]
     },
     "execution_count": 15,
     "metadata": {},
     "output_type": "execute_result"
    }
   ],
   "source": [
    "a"
   ]
  },
  {
   "cell_type": "code",
   "execution_count": 16,
   "metadata": {
    "ExecuteTime": {
     "end_time": "2020-03-20T05:06:02.466244Z",
     "start_time": "2020-03-20T05:06:02.462280Z"
    }
   },
   "outputs": [],
   "source": [
    "a = np.array(a)"
   ]
  },
  {
   "cell_type": "code",
   "execution_count": 17,
   "metadata": {
    "ExecuteTime": {
     "end_time": "2020-03-20T05:06:02.961177Z",
     "start_time": "2020-03-20T05:06:02.956229Z"
    }
   },
   "outputs": [
    {
     "data": {
      "text/plain": [
       "array([-0.58233767, -1.05412719, -0.9074468 , -0.31583265, -0.26942569,\n",
       "       -1.04445982, -0.89784607, -0.36349259, -0.93817453,  0.30508389])"
      ]
     },
     "execution_count": 17,
     "metadata": {},
     "output_type": "execute_result"
    }
   ],
   "source": [
    "a"
   ]
  },
  {
   "cell_type": "code",
   "execution_count": 20,
   "metadata": {
    "ExecuteTime": {
     "end_time": "2020-03-20T05:06:31.676194Z",
     "start_time": "2020-03-20T05:06:31.671209Z"
    }
   },
   "outputs": [
    {
     "data": {
      "text/plain": [
       "array([[-0.58233767],\n",
       "       [-1.05412719],\n",
       "       [-0.9074468 ],\n",
       "       [-0.31583265],\n",
       "       [-0.26942569],\n",
       "       [-1.04445982],\n",
       "       [-0.89784607],\n",
       "       [-0.36349259],\n",
       "       [-0.93817453],\n",
       "       [ 0.30508389]])"
      ]
     },
     "execution_count": 20,
     "metadata": {},
     "output_type": "execute_result"
    }
   ],
   "source": [
    "a.reshape((10,1))"
   ]
  },
  {
   "cell_type": "code",
   "execution_count": 21,
   "metadata": {
    "ExecuteTime": {
     "end_time": "2020-03-20T05:06:42.551150Z",
     "start_time": "2020-03-20T05:06:42.546164Z"
    }
   },
   "outputs": [
    {
     "data": {
      "text/plain": [
       "array([-0.58233767, -1.05412719, -0.9074468 , -0.31583265, -0.26942569,\n",
       "       -1.04445982, -0.89784607, -0.36349259, -0.93817453,  0.30508389])"
      ]
     },
     "execution_count": 21,
     "metadata": {},
     "output_type": "execute_result"
    }
   ],
   "source": [
    "a.T"
   ]
  },
  {
   "cell_type": "code",
   "execution_count": 33,
   "metadata": {
    "ExecuteTime": {
     "end_time": "2020-03-20T05:09:27.365335Z",
     "start_time": "2020-03-20T05:09:27.360357Z"
    }
   },
   "outputs": [],
   "source": [
    "b = np.array([np.ones(10),  pd.Series(np.random.randn(10))])"
   ]
  },
  {
   "cell_type": "code",
   "execution_count": 34,
   "metadata": {
    "ExecuteTime": {
     "end_time": "2020-03-20T05:09:32.150155Z",
     "start_time": "2020-03-20T05:09:32.145184Z"
    }
   },
   "outputs": [
    {
     "data": {
      "text/plain": [
       "array([[ 1.        ,  1.        ,  1.        ,  1.        ,  1.        ,\n",
       "         1.        ,  1.        ,  1.        ,  1.        ,  1.        ],\n",
       "       [ 0.54796555, -0.81641693, -1.645739  ,  0.40796188, -1.02832316,\n",
       "         1.04677585, -1.14847444, -0.50309899,  1.8533114 , -1.74891333]])"
      ]
     },
     "execution_count": 34,
     "metadata": {},
     "output_type": "execute_result"
    }
   ],
   "source": [
    "b"
   ]
  },
  {
   "cell_type": "code",
   "execution_count": 35,
   "metadata": {
    "ExecuteTime": {
     "end_time": "2020-03-20T05:09:36.960135Z",
     "start_time": "2020-03-20T05:09:36.955180Z"
    }
   },
   "outputs": [
    {
     "data": {
      "text/plain": [
       "(2, 10)"
      ]
     },
     "execution_count": 35,
     "metadata": {},
     "output_type": "execute_result"
    }
   ],
   "source": [
    "b.shape"
   ]
  },
  {
   "cell_type": "code",
   "execution_count": 36,
   "metadata": {
    "ExecuteTime": {
     "end_time": "2020-03-20T05:09:40.446101Z",
     "start_time": "2020-03-20T05:09:40.441121Z"
    }
   },
   "outputs": [
    {
     "data": {
      "text/plain": [
       "array([[ 1.        ,  0.54796555],\n",
       "       [ 1.        , -0.81641693],\n",
       "       [ 1.        , -1.645739  ],\n",
       "       [ 1.        ,  0.40796188],\n",
       "       [ 1.        , -1.02832316],\n",
       "       [ 1.        ,  1.04677585],\n",
       "       [ 1.        , -1.14847444],\n",
       "       [ 1.        , -0.50309899],\n",
       "       [ 1.        ,  1.8533114 ],\n",
       "       [ 1.        , -1.74891333]])"
      ]
     },
     "execution_count": 36,
     "metadata": {},
     "output_type": "execute_result"
    }
   ],
   "source": [
    "b.T"
   ]
  },
  {
   "cell_type": "code",
   "execution_count": 38,
   "metadata": {
    "ExecuteTime": {
     "end_time": "2020-03-20T05:10:13.412290Z",
     "start_time": "2020-03-20T05:10:13.407270Z"
    }
   },
   "outputs": [
    {
     "data": {
      "text/plain": [
       "array([[10.        , -3.03495116],\n",
       "       [-3.03495116, 14.06044391]])"
      ]
     },
     "execution_count": 38,
     "metadata": {},
     "output_type": "execute_result"
    }
   ],
   "source": [
    "b @ b.T"
   ]
  },
  {
   "cell_type": "code",
   "execution_count": 41,
   "metadata": {
    "ExecuteTime": {
     "end_time": "2020-03-20T05:11:09.830099Z",
     "start_time": "2020-03-20T05:11:09.825124Z"
    }
   },
   "outputs": [
    {
     "data": {
      "text/plain": [
       "array([[0.10701019, 0.02309818],\n",
       "       [0.02309818, 0.07610726]])"
      ]
     },
     "execution_count": 41,
     "metadata": {},
     "output_type": "execute_result"
    }
   ],
   "source": [
    "np.linalg.inv(b @ b.T) "
   ]
  },
  {
   "cell_type": "code",
   "execution_count": 42,
   "metadata": {
    "ExecuteTime": {
     "end_time": "2020-03-20T05:11:18.641350Z",
     "start_time": "2020-03-20T05:11:18.635367Z"
    }
   },
   "outputs": [
    {
     "data": {
      "text/plain": [
       "array([[1.00000000e+00, 0.00000000e+00],\n",
       "       [5.55111512e-17, 1.00000000e+00]])"
      ]
     },
     "execution_count": 42,
     "metadata": {},
     "output_type": "execute_result"
    }
   ],
   "source": [
    "np.linalg.inv(b @ b.T) @ (b @ b.T)"
   ]
  },
  {
   "cell_type": "markdown",
   "metadata": {
    "ExecuteTime": {
     "end_time": "2020-03-20T05:11:51.905456Z",
     "start_time": "2020-03-20T05:11:51.635922Z"
    }
   },
   "source": [
    "Optimization"
   ]
  },
  {
   "cell_type": "code",
   "execution_count": 43,
   "metadata": {
    "ExecuteTime": {
     "end_time": "2020-03-20T05:11:37.007800Z",
     "start_time": "2020-03-20T05:11:36.707822Z"
    }
   },
   "outputs": [],
   "source": [
    "from scipy.optimize import minimize"
   ]
  },
  {
   "cell_type": "code",
   "execution_count": 46,
   "metadata": {
    "ExecuteTime": {
     "end_time": "2020-03-20T05:12:33.872461Z",
     "start_time": "2020-03-20T05:12:33.870433Z"
    }
   },
   "outputs": [],
   "source": [
    "def f(x):\n",
    "    return (x-1)**2"
   ]
  },
  {
   "cell_type": "code",
   "execution_count": 49,
   "metadata": {
    "ExecuteTime": {
     "end_time": "2020-03-20T05:13:04.349290Z",
     "start_time": "2020-03-20T05:13:04.343273Z"
    }
   },
   "outputs": [
    {
     "data": {
      "text/plain": [
       "      fun: 5.5507662238258444e-17\n",
       " hess_inv: array([[0.5]])\n",
       "      jac: array([4.68181046e-13])\n",
       "  message: 'Optimization terminated successfully.'\n",
       "     nfev: 9\n",
       "      nit: 2\n",
       "     njev: 3\n",
       "   status: 0\n",
       "  success: True\n",
       "        x: array([0.99999999])"
      ]
     },
     "execution_count": 49,
     "metadata": {},
     "output_type": "execute_result"
    }
   ],
   "source": [
    "result = minimize(f, x0 = 0)\n",
    "result"
   ]
  },
  {
   "cell_type": "code",
   "execution_count": 50,
   "metadata": {
    "ExecuteTime": {
     "end_time": "2020-03-20T05:13:37.135617Z",
     "start_time": "2020-03-20T05:13:37.129635Z"
    }
   },
   "outputs": [
    {
     "data": {
      "text/plain": [
       "array([0.99999999])"
      ]
     },
     "execution_count": 50,
     "metadata": {},
     "output_type": "execute_result"
    }
   ],
   "source": [
    "result.x"
   ]
  },
  {
   "cell_type": "markdown",
   "metadata": {},
   "source": [
    "OLS regression in Python "
   ]
  },
  {
   "cell_type": "code",
   "execution_count": 3,
   "metadata": {
    "ExecuteTime": {
     "end_time": "2020-03-22T05:23:32.494314Z",
     "start_time": "2020-03-22T05:23:32.481302Z"
    }
   },
   "outputs": [],
   "source": [
    "# OLS in Python \n",
    "\n",
    "# You can use Stata, or other Python OLS packages as well \n",
    "\n",
    "import statsmodels.api as sm\n",
    "\n",
    "\n",
    "df = pd.read_stata('data1.dta')\n"
   ]
  },
  {
   "cell_type": "code",
   "execution_count": 4,
   "metadata": {
    "ExecuteTime": {
     "end_time": "2020-03-22T05:23:33.430232Z",
     "start_time": "2020-03-22T05:23:33.080308Z"
    }
   },
   "outputs": [
    {
     "name": "stdout",
     "output_type": "stream",
     "text": [
      "                            OLS Regression Results                            \n",
      "==============================================================================\n",
      "Dep. Variable:                      y   R-squared:                       0.799\n",
      "Model:                            OLS   Adj. R-squared:                  0.799\n",
      "Method:                 Least Squares   F-statistic:                     1979.\n",
      "Date:                Sun, 22 Mar 2020   Prob (F-statistic):          1.33e-175\n",
      "Time:                        13:23:33   Log-Likelihood:                -362.72\n",
      "No. Observations:                 500   AIC:                             729.4\n",
      "Df Residuals:                     498   BIC:                             737.9\n",
      "Df Model:                           1                                         \n",
      "Covariance Type:            nonrobust                                         \n",
      "==============================================================================\n",
      "                 coef    std err          t      P>|t|      [0.025      0.975]\n",
      "------------------------------------------------------------------------------\n",
      "const          0.0055      0.022      0.245      0.807      -0.039       0.050\n",
      "x              1.0105      0.023     44.486      0.000       0.966       1.055\n",
      "==============================================================================\n",
      "Omnibus:                        0.044   Durbin-Watson:                   1.996\n",
      "Prob(Omnibus):                  0.978   Jarque-Bera (JB):                0.120\n",
      "Skew:                           0.002   Prob(JB):                        0.942\n",
      "Kurtosis:                       2.924   Cond. No.                         1.09\n",
      "==============================================================================\n",
      "\n",
      "Warnings:\n",
      "[1] Standard Errors assume that the covariance matrix of the errors is correctly specified.\n"
     ]
    }
   ],
   "source": [
    "# Adding constant term manually \n",
    "\n",
    "df['const'] = 1\n",
    "\n",
    "reg1 = sm.OLS(endog=df['y'], exog=df[['const', 'x']])\n",
    "\n",
    "results = reg1.fit()\n",
    "\n",
    "print(results.summary())"
   ]
  },
  {
   "cell_type": "code",
   "execution_count": 8,
   "metadata": {
    "ExecuteTime": {
     "end_time": "2020-03-22T05:26:12.467396Z",
     "start_time": "2020-03-22T05:26:12.455346Z"
    }
   },
   "outputs": [
    {
     "data": {
      "text/html": [
       "<div>\n",
       "<style scoped>\n",
       "    .dataframe tbody tr th:only-of-type {\n",
       "        vertical-align: middle;\n",
       "    }\n",
       "\n",
       "    .dataframe tbody tr th {\n",
       "        vertical-align: top;\n",
       "    }\n",
       "\n",
       "    .dataframe thead th {\n",
       "        text-align: right;\n",
       "    }\n",
       "</style>\n",
       "<table border=\"1\" class=\"dataframe\">\n",
       "  <thead>\n",
       "    <tr style=\"text-align: right;\">\n",
       "      <th></th>\n",
       "      <th>const</th>\n",
       "      <th>x</th>\n",
       "    </tr>\n",
       "  </thead>\n",
       "  <tbody>\n",
       "    <tr>\n",
       "      <th>0</th>\n",
       "      <td>1.0</td>\n",
       "      <td>-1.121670</td>\n",
       "    </tr>\n",
       "    <tr>\n",
       "      <th>1</th>\n",
       "      <td>1.0</td>\n",
       "      <td>1.001219</td>\n",
       "    </tr>\n",
       "    <tr>\n",
       "      <th>2</th>\n",
       "      <td>1.0</td>\n",
       "      <td>-0.588864</td>\n",
       "    </tr>\n",
       "    <tr>\n",
       "      <th>3</th>\n",
       "      <td>1.0</td>\n",
       "      <td>-1.608103</td>\n",
       "    </tr>\n",
       "    <tr>\n",
       "      <th>4</th>\n",
       "      <td>1.0</td>\n",
       "      <td>-0.421478</td>\n",
       "    </tr>\n",
       "    <tr>\n",
       "      <th>...</th>\n",
       "      <td>...</td>\n",
       "      <td>...</td>\n",
       "    </tr>\n",
       "    <tr>\n",
       "      <th>495</th>\n",
       "      <td>1.0</td>\n",
       "      <td>-1.213828</td>\n",
       "    </tr>\n",
       "    <tr>\n",
       "      <th>496</th>\n",
       "      <td>1.0</td>\n",
       "      <td>0.222661</td>\n",
       "    </tr>\n",
       "    <tr>\n",
       "      <th>497</th>\n",
       "      <td>1.0</td>\n",
       "      <td>0.244276</td>\n",
       "    </tr>\n",
       "    <tr>\n",
       "      <th>498</th>\n",
       "      <td>1.0</td>\n",
       "      <td>0.318744</td>\n",
       "    </tr>\n",
       "    <tr>\n",
       "      <th>499</th>\n",
       "      <td>1.0</td>\n",
       "      <td>-1.609593</td>\n",
       "    </tr>\n",
       "  </tbody>\n",
       "</table>\n",
       "<p>500 rows × 2 columns</p>\n",
       "</div>"
      ],
      "text/plain": [
       "     const         x\n",
       "0      1.0 -1.121670\n",
       "1      1.0  1.001219\n",
       "2      1.0 -0.588864\n",
       "3      1.0 -1.608103\n",
       "4      1.0 -0.421478\n",
       "..     ...       ...\n",
       "495    1.0 -1.213828\n",
       "496    1.0  0.222661\n",
       "497    1.0  0.244276\n",
       "498    1.0  0.318744\n",
       "499    1.0 -1.609593\n",
       "\n",
       "[500 rows x 2 columns]"
      ]
     },
     "execution_count": 8,
     "metadata": {},
     "output_type": "execute_result"
    }
   ],
   "source": [
    "Y = df['y']\n",
    "X = df['x']\n",
    "X = sm.add_constant(X)\n",
    "X"
   ]
  },
  {
   "cell_type": "code",
   "execution_count": 10,
   "metadata": {
    "ExecuteTime": {
     "end_time": "2020-03-22T05:26:36.880821Z",
     "start_time": "2020-03-22T05:26:36.862417Z"
    }
   },
   "outputs": [
    {
     "data": {
      "text/html": [
       "<table class=\"simpletable\">\n",
       "<caption>OLS Regression Results</caption>\n",
       "<tr>\n",
       "  <th>Dep. Variable:</th>            <td>y</td>        <th>  R-squared:         </th> <td>   0.799</td> \n",
       "</tr>\n",
       "<tr>\n",
       "  <th>Model:</th>                   <td>OLS</td>       <th>  Adj. R-squared:    </th> <td>   0.799</td> \n",
       "</tr>\n",
       "<tr>\n",
       "  <th>Method:</th>             <td>Least Squares</td>  <th>  F-statistic:       </th> <td>   1979.</td> \n",
       "</tr>\n",
       "<tr>\n",
       "  <th>Date:</th>             <td>Sun, 22 Mar 2020</td> <th>  Prob (F-statistic):</th> <td>1.33e-175</td>\n",
       "</tr>\n",
       "<tr>\n",
       "  <th>Time:</th>                 <td>13:26:36</td>     <th>  Log-Likelihood:    </th> <td> -362.72</td> \n",
       "</tr>\n",
       "<tr>\n",
       "  <th>No. Observations:</th>      <td>   500</td>      <th>  AIC:               </th> <td>   729.4</td> \n",
       "</tr>\n",
       "<tr>\n",
       "  <th>Df Residuals:</th>          <td>   498</td>      <th>  BIC:               </th> <td>   737.9</td> \n",
       "</tr>\n",
       "<tr>\n",
       "  <th>Df Model:</th>              <td>     1</td>      <th>                     </th>     <td> </td>    \n",
       "</tr>\n",
       "<tr>\n",
       "  <th>Covariance Type:</th>      <td>nonrobust</td>    <th>                     </th>     <td> </td>    \n",
       "</tr>\n",
       "</table>\n",
       "<table class=\"simpletable\">\n",
       "<tr>\n",
       "    <td></td>       <th>coef</th>     <th>std err</th>      <th>t</th>      <th>P>|t|</th>  <th>[0.025</th>    <th>0.975]</th>  \n",
       "</tr>\n",
       "<tr>\n",
       "  <th>const</th> <td>    0.0055</td> <td>    0.022</td> <td>    0.245</td> <td> 0.807</td> <td>   -0.039</td> <td>    0.050</td>\n",
       "</tr>\n",
       "<tr>\n",
       "  <th>x</th>     <td>    1.0105</td> <td>    0.023</td> <td>   44.486</td> <td> 0.000</td> <td>    0.966</td> <td>    1.055</td>\n",
       "</tr>\n",
       "</table>\n",
       "<table class=\"simpletable\">\n",
       "<tr>\n",
       "  <th>Omnibus:</th>       <td> 0.044</td> <th>  Durbin-Watson:     </th> <td>   1.996</td>\n",
       "</tr>\n",
       "<tr>\n",
       "  <th>Prob(Omnibus):</th> <td> 0.978</td> <th>  Jarque-Bera (JB):  </th> <td>   0.120</td>\n",
       "</tr>\n",
       "<tr>\n",
       "  <th>Skew:</th>          <td> 0.002</td> <th>  Prob(JB):          </th> <td>   0.942</td>\n",
       "</tr>\n",
       "<tr>\n",
       "  <th>Kurtosis:</th>      <td> 2.924</td> <th>  Cond. No.          </th> <td>    1.09</td>\n",
       "</tr>\n",
       "</table><br/><br/>Warnings:<br/>[1] Standard Errors assume that the covariance matrix of the errors is correctly specified."
      ],
      "text/plain": [
       "<class 'statsmodels.iolib.summary.Summary'>\n",
       "\"\"\"\n",
       "                            OLS Regression Results                            \n",
       "==============================================================================\n",
       "Dep. Variable:                      y   R-squared:                       0.799\n",
       "Model:                            OLS   Adj. R-squared:                  0.799\n",
       "Method:                 Least Squares   F-statistic:                     1979.\n",
       "Date:                Sun, 22 Mar 2020   Prob (F-statistic):          1.33e-175\n",
       "Time:                        13:26:36   Log-Likelihood:                -362.72\n",
       "No. Observations:                 500   AIC:                             729.4\n",
       "Df Residuals:                     498   BIC:                             737.9\n",
       "Df Model:                           1                                         \n",
       "Covariance Type:            nonrobust                                         \n",
       "==============================================================================\n",
       "                 coef    std err          t      P>|t|      [0.025      0.975]\n",
       "------------------------------------------------------------------------------\n",
       "const          0.0055      0.022      0.245      0.807      -0.039       0.050\n",
       "x              1.0105      0.023     44.486      0.000       0.966       1.055\n",
       "==============================================================================\n",
       "Omnibus:                        0.044   Durbin-Watson:                   1.996\n",
       "Prob(Omnibus):                  0.978   Jarque-Bera (JB):                0.120\n",
       "Skew:                           0.002   Prob(JB):                        0.942\n",
       "Kurtosis:                       2.924   Cond. No.                         1.09\n",
       "==============================================================================\n",
       "\n",
       "Warnings:\n",
       "[1] Standard Errors assume that the covariance matrix of the errors is correctly specified.\n",
       "\"\"\""
      ]
     },
     "execution_count": 10,
     "metadata": {},
     "output_type": "execute_result"
    }
   ],
   "source": [
    "model = sm.OLS(Y,X)\n",
    "results = model.fit()\n",
    "results.summary()"
   ]
  },
  {
   "cell_type": "markdown",
   "metadata": {},
   "source": [
    "IV2SLS"
   ]
  },
  {
   "cell_type": "code",
   "execution_count": 1,
   "metadata": {
    "ExecuteTime": {
     "end_time": "2020-03-23T12:48:44.744805Z",
     "start_time": "2020-03-23T12:48:41.521040Z"
    }
   },
   "outputs": [
    {
     "name": "stdout",
     "output_type": "stream",
     "text": [
      "\n",
      "T.A. Mroz (1987), \"The Sensitivity of an Empirical Model of Married Women's\n",
      "Hours of Work to Economic and Statistical Assumptions,\" Econometrica 55,\n",
      "765-799.\n",
      "\n",
      "nlf        1 if in labor force, 1975\n",
      "hours      hours worked, 1975\n",
      "kidslt6    # kids < 6 years\n",
      "kidsge6    # kids 6-18\n",
      "age        woman's age in yrs\n",
      "educ       years of schooling\n",
      "wage       estimated wage from earns., hours\n",
      "repwage    reported wage at interview in 1976\n",
      "hushrs     hours worked by husband, 1975\n",
      "husage     husband's age\n",
      "huseduc    husband's years of schooling\n",
      "huswage    husband's hourly wage, 1975\n",
      "faminc     family income, 1975\n",
      "mtr        fed. marginal tax rate facing woman\n",
      "motheduc   mother's years of schooling\n",
      "fatheduc   father's years of schooling\n",
      "unem       unem. rate in county of resid.\n",
      "city       =1 if live in SMSA\n",
      "exper      actual labor mkt exper\n",
      "nwifeinc   (faminc - wage*hours)/1000\n",
      "lwage      log(wage)\n",
      "expersq    exper^2\n",
      "\n"
     ]
    }
   ],
   "source": [
    "import numpy as np\n",
    "from statsmodels.api import add_constant\n",
    "from linearmodels.datasets import mroz\n",
    "\n",
    "print(mroz.DESCR)\n",
    "\n",
    "data = mroz.load()\n",
    "data = data.dropna()\n",
    "data = add_constant(data, has_constant='add')\n",
    "\n"
   ]
  },
  {
   "cell_type": "code",
   "execution_count": null,
   "metadata": {
    "ExecuteTime": {
     "end_time": "2020-03-23T12:53:12.768936Z",
     "start_time": "2020-03-23T12:53:12.717076Z"
    }
   },
   "outputs": [],
   "source": []
  },
  {
   "cell_type": "code",
   "execution_count": 6,
   "metadata": {
    "ExecuteTime": {
     "end_time": "2020-03-23T12:50:26.686393Z",
     "start_time": "2020-03-23T12:50:26.659435Z"
    }
   },
   "outputs": [
    {
     "name": "stdout",
     "output_type": "stream",
     "text": [
      "                            OLS Estimation Summary                            \n",
      "==============================================================================\n",
      "Dep. Variable:                   wage   R-squared:                      0.1179\n",
      "Estimator:                        OLS   Adj. R-squared:                 0.1158\n",
      "No. Observations:                 428   F-statistic:                    65.899\n",
      "Date:                Mon, Mar 23 2020   P-value (F-stat)                0.0000\n",
      "Time:                        20:50:26   Distribution:                  chi2(1)\n",
      "Cov. Estimator:                robust                                         \n",
      "                                                                              \n",
      "                             Parameter Estimates                              \n",
      "==============================================================================\n",
      "            Parameter  Std. Err.     T-stat    P-value    Lower CI    Upper CI\n",
      "------------------------------------------------------------------------------\n",
      "const         -0.1852     0.1703    -1.0872     0.2770     -0.5191      0.1487\n",
      "educ           0.1086     0.0134     8.1178     0.0000      0.0824      0.1349\n",
      "==============================================================================\n"
     ]
    }
   ],
   "source": [
    "from linearmodels.iv import IV2SLS\n",
    "\n",
    "# IV2SLS(dependent, exog, endog, instruments)\n",
    "\n",
    "res_ols = IV2SLS(np.log(data.wage), data[['const','educ']], None, None).fit(cov_type='robust')\n",
    "print(res_ols)"
   ]
  },
  {
   "cell_type": "code",
   "execution_count": 7,
   "metadata": {
    "ExecuteTime": {
     "end_time": "2020-03-23T12:50:27.084093Z",
     "start_time": "2020-03-23T12:50:27.062619Z"
    }
   },
   "outputs": [
    {
     "name": "stdout",
     "output_type": "stream",
     "text": [
      "                            OLS Estimation Summary                            \n",
      "==============================================================================\n",
      "Dep. Variable:                   educ   R-squared:                      0.1726\n",
      "Estimator:                        OLS   Adj. R-squared:                 0.1706\n",
      "No. Observations:                 428   F-statistic:                    87.528\n",
      "Date:                Mon, Mar 23 2020   P-value (F-stat)                0.0000\n",
      "Time:                        20:50:27   Distribution:                  chi2(1)\n",
      "Cov. Estimator:                robust                                         \n",
      "                                                                              \n",
      "                             Parameter Estimates                              \n",
      "==============================================================================\n",
      "            Parameter  Std. Err.     T-stat    P-value    Lower CI    Upper CI\n",
      "------------------------------------------------------------------------------\n",
      "const          10.237     0.2713     37.740     0.0000      9.7054      10.769\n",
      "fatheduc       0.2694     0.0288     9.3556     0.0000      0.2130      0.3259\n",
      "==============================================================================\n"
     ]
    }
   ],
   "source": [
    "res_first = IV2SLS(data.educ, data[['const','fatheduc']], None, None).fit(cov_type='robust')\n",
    "print(res_first)\n",
    "data['educ_hat'] = data.educ - res_first.resids"
   ]
  },
  {
   "cell_type": "code",
   "execution_count": 8,
   "metadata": {
    "ExecuteTime": {
     "end_time": "2020-03-23T12:50:27.539788Z",
     "start_time": "2020-03-23T12:50:27.515853Z"
    }
   },
   "outputs": [
    {
     "name": "stdout",
     "output_type": "stream",
     "text": [
      "                          IV-2SLS Estimation Summary                          \n",
      "==============================================================================\n",
      "Dep. Variable:                   wage   R-squared:                      0.0934\n",
      "Estimator:                    IV-2SLS   Adj. R-squared:                 0.0913\n",
      "No. Observations:                 428   F-statistic:                    2.5656\n",
      "Date:                Mon, Mar 23 2020   P-value (F-stat)                0.1092\n",
      "Time:                        20:50:27   Distribution:                  chi2(1)\n",
      "Cov. Estimator:                robust                                         \n",
      "                                                                              \n",
      "                             Parameter Estimates                              \n",
      "==============================================================================\n",
      "            Parameter  Std. Err.     T-stat    P-value    Lower CI    Upper CI\n",
      "------------------------------------------------------------------------------\n",
      "const          0.4411     0.4643     0.9501     0.3421     -0.4689      1.3511\n",
      "educ           0.0592     0.0369     1.6017     0.1092     -0.0132      0.1316\n",
      "==============================================================================\n",
      "\n",
      "Endogenous: educ\n",
      "Instruments: fatheduc\n",
      "Robust Covariance (Heteroskedastic)\n",
      "Debiased: False\n"
     ]
    }
   ],
   "source": [
    "res_second = IV2SLS(np.log(data.wage), data[['const']], data.educ, data.fatheduc).fit(cov_type='robust')\n",
    "print(res_second)"
   ]
  },
  {
   "cell_type": "code",
   "execution_count": 9,
   "metadata": {
    "ExecuteTime": {
     "end_time": "2020-03-23T12:51:43.984473Z",
     "start_time": "2020-03-23T12:51:43.946505Z"
    }
   },
   "outputs": [
    {
     "name": "stdout",
     "output_type": "stream",
     "text": [
      "                       Model Comparison                       \n",
      "==============================================================\n",
      "                               OLS         2SLS         Direct\n",
      "--------------------------------------------------------------\n",
      "Dep. Variable                 wage         wage           wage\n",
      "Estimator                      OLS      IV-2SLS            OLS\n",
      "No. Observations               428          428            428\n",
      "Cov. Est.                   robust       robust     unadjusted\n",
      "R-squared                   0.1179       0.0934         0.0060\n",
      "Adj. R-squared              0.1158       0.0913         0.0037\n",
      "F-statistic                 65.899       2.5656         2.5982\n",
      "P-value (F-stat)         4.441e-16       0.1092         0.1070\n",
      "==================     ===========   ==========   ============\n",
      "const                      -0.1852       0.4411         0.4411\n",
      "                         (-1.0872)     (0.9501)       (0.9465)\n",
      "educ                        0.1086       0.0592               \n",
      "                          (8.1178)     (1.6017)               \n",
      "educ_hat                                                0.0592\n",
      "                                                      (1.6119)\n",
      "==================== ============= ============ ==============\n",
      "Instruments                            fatheduc               \n",
      "--------------------------------------------------------------\n",
      "\n",
      "T-stats reported in parentheses\n"
     ]
    }
   ],
   "source": [
    "from linearmodels.iv import compare\n",
    "res_direct = IV2SLS(np.log(data.wage), data[['const','educ_hat']], None, None).fit(cov_type='unadjusted')\n",
    "print(compare({'OLS':res_ols, '2SLS':res_second, 'Direct': res_direct}))"
   ]
  },
  {
   "cell_type": "code",
   "execution_count": null,
   "metadata": {},
   "outputs": [],
   "source": []
  }
 ],
 "metadata": {
  "kernelspec": {
   "display_name": "Python 3",
   "language": "python",
   "name": "python3"
  },
  "language_info": {
   "codemirror_mode": {
    "name": "ipython",
    "version": 3
   },
   "file_extension": ".py",
   "mimetype": "text/x-python",
   "name": "python",
   "nbconvert_exporter": "python",
   "pygments_lexer": "ipython3",
   "version": "3.7.6"
  },
  "varInspector": {
   "cols": {
    "lenName": 16,
    "lenType": 16,
    "lenVar": 40
   },
   "kernels_config": {
    "python": {
     "delete_cmd_postfix": "",
     "delete_cmd_prefix": "del ",
     "library": "var_list.py",
     "varRefreshCmd": "print(var_dic_list())"
    },
    "r": {
     "delete_cmd_postfix": ") ",
     "delete_cmd_prefix": "rm(",
     "library": "var_list.r",
     "varRefreshCmd": "cat(var_dic_list()) "
    }
   },
   "types_to_exclude": [
    "module",
    "function",
    "builtin_function_or_method",
    "instance",
    "_Feature"
   ],
   "window_display": false
  }
 },
 "nbformat": 4,
 "nbformat_minor": 2
}
