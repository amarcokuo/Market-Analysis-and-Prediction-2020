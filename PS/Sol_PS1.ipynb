{
 "cells": [
  {
   "cell_type": "markdown",
   "metadata": {
    "ExecuteTime": {
     "end_time": "2020-03-17T13:50:00.097558Z",
     "start_time": "2020-03-17T13:50:00.089569Z"
    }
   },
   "source": [
    "# data1.dta"
   ]
  },
  {
   "cell_type": "code",
   "execution_count": 1,
   "metadata": {
    "ExecuteTime": {
     "end_time": "2020-04-14T09:19:08.575204Z",
     "start_time": "2020-04-14T09:19:06.528226Z"
    }
   },
   "outputs": [],
   "source": [
    "import numpy as np\n",
    "import scipy.stats \n",
    "from scipy.optimize import minimize\n",
    "import pandas as pd\n",
    "\n",
    "from matplotlib import pyplot as plt\n",
    "import statsmodels.api as sm\n",
    " \n",
    "%matplotlib inline"
   ]
  },
  {
   "cell_type": "code",
   "execution_count": 2,
   "metadata": {
    "ExecuteTime": {
     "end_time": "2020-04-14T09:19:08.601139Z",
     "start_time": "2020-04-14T09:19:08.576231Z"
    }
   },
   "outputs": [],
   "source": [
    "df = pd.read_stata('data1.dta')"
   ]
  },
  {
   "cell_type": "code",
   "execution_count": 3,
   "metadata": {
    "ExecuteTime": {
     "end_time": "2020-04-14T09:19:08.617052Z",
     "start_time": "2020-04-14T09:19:08.603130Z"
    }
   },
   "outputs": [
    {
     "data": {
      "text/html": [
       "<div>\n",
       "<style scoped>\n",
       "    .dataframe tbody tr th:only-of-type {\n",
       "        vertical-align: middle;\n",
       "    }\n",
       "\n",
       "    .dataframe tbody tr th {\n",
       "        vertical-align: top;\n",
       "    }\n",
       "\n",
       "    .dataframe thead th {\n",
       "        text-align: right;\n",
       "    }\n",
       "</style>\n",
       "<table border=\"1\" class=\"dataframe\">\n",
       "  <thead>\n",
       "    <tr style=\"text-align: right;\">\n",
       "      <th></th>\n",
       "      <th>y</th>\n",
       "      <th>x</th>\n",
       "    </tr>\n",
       "  </thead>\n",
       "  <tbody>\n",
       "    <tr>\n",
       "      <th>0</th>\n",
       "      <td>-1.123592</td>\n",
       "      <td>-1.121670</td>\n",
       "    </tr>\n",
       "    <tr>\n",
       "      <th>1</th>\n",
       "      <td>0.265038</td>\n",
       "      <td>1.001219</td>\n",
       "    </tr>\n",
       "    <tr>\n",
       "      <th>2</th>\n",
       "      <td>-0.303252</td>\n",
       "      <td>-0.588864</td>\n",
       "    </tr>\n",
       "    <tr>\n",
       "      <th>3</th>\n",
       "      <td>-0.781113</td>\n",
       "      <td>-1.608103</td>\n",
       "    </tr>\n",
       "    <tr>\n",
       "      <th>4</th>\n",
       "      <td>0.296823</td>\n",
       "      <td>-0.421478</td>\n",
       "    </tr>\n",
       "    <tr>\n",
       "      <th>...</th>\n",
       "      <td>...</td>\n",
       "      <td>...</td>\n",
       "    </tr>\n",
       "    <tr>\n",
       "      <th>495</th>\n",
       "      <td>-2.020082</td>\n",
       "      <td>-1.213828</td>\n",
       "    </tr>\n",
       "    <tr>\n",
       "      <th>496</th>\n",
       "      <td>0.963207</td>\n",
       "      <td>0.222661</td>\n",
       "    </tr>\n",
       "    <tr>\n",
       "      <th>497</th>\n",
       "      <td>0.067604</td>\n",
       "      <td>0.244276</td>\n",
       "    </tr>\n",
       "    <tr>\n",
       "      <th>498</th>\n",
       "      <td>0.003067</td>\n",
       "      <td>0.318744</td>\n",
       "    </tr>\n",
       "    <tr>\n",
       "      <th>499</th>\n",
       "      <td>-1.632664</td>\n",
       "      <td>-1.609593</td>\n",
       "    </tr>\n",
       "  </tbody>\n",
       "</table>\n",
       "<p>500 rows × 2 columns</p>\n",
       "</div>"
      ],
      "text/plain": [
       "            y         x\n",
       "0   -1.123592 -1.121670\n",
       "1    0.265038  1.001219\n",
       "2   -0.303252 -0.588864\n",
       "3   -0.781113 -1.608103\n",
       "4    0.296823 -0.421478\n",
       "..        ...       ...\n",
       "495 -2.020082 -1.213828\n",
       "496  0.963207  0.222661\n",
       "497  0.067604  0.244276\n",
       "498  0.003067  0.318744\n",
       "499 -1.632664 -1.609593\n",
       "\n",
       "[500 rows x 2 columns]"
      ]
     },
     "execution_count": 3,
     "metadata": {},
     "output_type": "execute_result"
    }
   ],
   "source": [
    "df"
   ]
  },
  {
   "cell_type": "code",
   "execution_count": 4,
   "metadata": {
    "ExecuteTime": {
     "end_time": "2020-04-14T09:19:09.086578Z",
     "start_time": "2020-04-14T09:19:08.619048Z"
    }
   },
   "outputs": [
    {
     "data": {
      "text/plain": [
       "<matplotlib.axes._subplots.AxesSubplot at 0x16439d5cd08>"
      ]
     },
     "execution_count": 4,
     "metadata": {},
     "output_type": "execute_result"
    },
    {
     "data": {
      "image/png": "[encoded data removed]",
      "text/plain": [
       "<Figure size 432x288 with 1 Axes>"
      ]
     },
     "metadata": {},
     "output_type": "display_data"
    }
   ],
   "source": [
    "plt.style.use('ggplot')\n",
    "df.plot.scatter(x = 'x', y = 'y')"
   ]
  },
  {
   "cell_type": "code",
   "execution_count": 5,
   "metadata": {
    "ExecuteTime": {
     "end_time": "2020-04-14T09:19:09.133479Z",
     "start_time": "2020-04-14T09:19:09.087575Z"
    }
   },
   "outputs": [
    {
     "name": "stdout",
     "output_type": "stream",
     "text": [
      "                            OLS Regression Results                            \n",
      "==============================================================================\n",
      "Dep. Variable:                      y   R-squared:                       0.799\n",
      "Model:                            OLS   Adj. R-squared:                  0.799\n",
      "Method:                 Least Squares   F-statistic:                     1979.\n",
      "Date:                Tue, 14 Apr 2020   Prob (F-statistic):          1.33e-175\n",
      "Time:                        17:19:09   Log-Likelihood:                -362.72\n",
      "No. Observations:                 500   AIC:                             729.4\n",
      "Df Residuals:                     498   BIC:                             737.9\n",
      "Df Model:                           1                                         \n",
      "Covariance Type:            nonrobust                                         \n",
      "==============================================================================\n",
      "                 coef    std err          t      P>|t|      [0.025      0.975]\n",
      "------------------------------------------------------------------------------\n",
      "const          0.0055      0.022      0.245      0.807      -0.039       0.050\n",
      "x              1.0105      0.023     44.486      0.000       0.966       1.055\n",
      "==============================================================================\n",
      "Omnibus:                        0.044   Durbin-Watson:                   1.996\n",
      "Prob(Omnibus):                  0.978   Jarque-Bera (JB):                0.120\n",
      "Skew:                           0.002   Prob(JB):                        0.942\n",
      "Kurtosis:                       2.924   Cond. No.                         1.09\n",
      "==============================================================================\n",
      "\n",
      "Warnings:\n",
      "[1] Standard Errors assume that the covariance matrix of the errors is correctly specified.\n"
     ]
    }
   ],
   "source": [
    "# OLS for this question \n",
    "\n",
    "df['const'] = 1\n",
    "\n",
    "import statsmodels.api as sm\n",
    "\n",
    "reg1 = sm.OLS(endog=df['y'], exog=df[['const', 'x']])\n",
    "\n",
    "results = reg1.fit()\n",
    "print(results.summary())"
   ]
  },
  {
   "cell_type": "code",
   "execution_count": 6,
   "metadata": {
    "ExecuteTime": {
     "end_time": "2020-04-14T09:19:09.142428Z",
     "start_time": "2020-04-14T09:19:09.135449Z"
    }
   },
   "outputs": [],
   "source": [
    "n = len(df['y'])\n",
    "y = np.array(df['y']).reshape(n,1) \n",
    "x = np.array([np.ones(n),df['x']]).T"
   ]
  },
  {
   "cell_type": "code",
   "execution_count": 7,
   "metadata": {
    "ExecuteTime": {
     "end_time": "2020-04-14T09:19:09.151404Z",
     "start_time": "2020-04-14T09:19:09.144423Z"
    }
   },
   "outputs": [
    {
     "data": {
      "text/plain": [
       "array([[0.00551034],\n",
       "       [1.01045927]])"
      ]
     },
     "execution_count": 7,
     "metadata": {},
     "output_type": "execute_result"
    }
   ],
   "source": [
    "inv_xx = np.linalg.inv(x.T @ x)    \n",
    "beta = inv_xx @ x.T @ y\n",
    "beta"
   ]
  },
  {
   "cell_type": "code",
   "execution_count": 8,
   "metadata": {
    "ExecuteTime": {
     "end_time": "2020-04-14T09:19:09.167362Z",
     "start_time": "2020-04-14T09:19:09.154395Z"
    }
   },
   "outputs": [
    {
     "name": "stdout",
     "output_type": "stream",
     "text": [
      "               beta_1      beta_2\n",
      "     coef:    0.00551     1.01046\n",
      "       se:    0.02244     0.02267\n"
     ]
    }
   ],
   "source": [
    "# Here I provide a function for computing OLS parameters and their associated standard errors\n",
    "def ols(y, x):\n",
    "    n = len(y)\n",
    "    \n",
    "    # computing betas \n",
    "    inv_xx = np.linalg.inv(x.T @ x)    \n",
    "    beta = inv_xx @ x.T @ y\n",
    "    \n",
    "    # calculating the standard errors, this is not robust standard errors \n",
    "    e = y - x @ beta \n",
    "    s = e.T @ e / n\n",
    "    var_beta = float(s) * inv_xx\n",
    "    se = np.diag(np.sqrt(var_beta))\n",
    "    return beta, se\n",
    "\n",
    "\n",
    "(beta, se) = ols(y,x) \n",
    "print  ( '{:>9}  {:>10} {:>11}'.format('', 'beta_1', 'beta_2'))  \n",
    "\n",
    "print  ( '{:>10} {:>10.5f}  {:>10.5f}'.format('coef:', beta[0,0], beta[1,0]))  \n",
    "\n",
    "print  ( '{:>10} {:>10.5f}  {:>10.5f}'.format('se:', se[0], se[1]))  "
   ]
  },
  {
   "cell_type": "code",
   "execution_count": 9,
   "metadata": {
    "ExecuteTime": {
     "end_time": "2020-04-14T09:19:09.181353Z",
     "start_time": "2020-04-14T09:19:09.170352Z"
    }
   },
   "outputs": [
    {
     "data": {
      "text/plain": [
       "array([0.00551033, 1.01045926])"
      ]
     },
     "execution_count": 9,
     "metadata": {},
     "output_type": "execute_result"
    }
   ],
   "source": [
    "def SSR(b): \n",
    "    b = np.array(b).reshape(2,1)\n",
    "    e = y - x @ b \n",
    "    return (e**2).sum()\n",
    "\n",
    "\n",
    "result = minimize(SSR, x0 = [0, 0])\n",
    "result.x"
   ]
  },
  {
   "cell_type": "code",
   "execution_count": 10,
   "metadata": {
    "ExecuteTime": {
     "end_time": "2020-04-14T09:19:09.246149Z",
     "start_time": "2020-04-14T09:19:09.183320Z"
    }
   },
   "outputs": [
    {
     "name": "stdout",
     "output_type": "stream",
     "text": [
      "Optimization terminated successfully.\n",
      "         Current function value: 0.725432\n",
      "         Iterations: 78\n",
      "         Function evaluations: 141\n",
      "           beta1       beta2      sigma\n",
      " est:    0.00555     1.01050    0.49982\n",
      "  se:    0.02263     0.02297    0.00919\n"
     ]
    }
   ],
   "source": [
    "# Bonus Question \n",
    "\n",
    "def ml_obj(b):\n",
    "    beta = np.array(b[:2]).reshape(2,1)\n",
    "    sigma =  np.abs(b[-1])      \n",
    "    f = -np.log(scipy.stats.norm.pdf((y - x @ beta)/sigma)/sigma).mean()\n",
    "    return f\n",
    "\n",
    "theta =  [1,1,1]\n",
    "Method = 'nelder-mead'\n",
    "\n",
    "result = minimize(ml_obj, theta, method='nelder-mead', options={'maxiter':50000, 'disp' : True})\n",
    "beta_hat = result.x \n",
    "\n",
    "def ml_se(theta_hat):\n",
    "    theta_hat = theta_hat.reshape(3,1)\n",
    "    beta = theta_hat[0:2,:]\n",
    "    sigma = theta_hat[2:,]\n",
    "    dl_dtheta = np.zeros((len(theta_hat), len(y)))\n",
    "    gap = 0.001\n",
    "    step = 1 + gap\n",
    "    for i in range(len(theta_hat)):\n",
    "        d_one = np.ones((3,1))\n",
    "        d_one[i] = step\n",
    "        dl_dtheta[i,:] =   ((np.log(scipy.stats.norm.pdf((y - x @ (beta* d_one[:2]))/ (sigma* d_one[-1])) /sigma*d_one[-1]) \n",
    "                                    - np.log(scipy.stats.norm.pdf((y - x @ beta)/ sigma) / sigma))                             \n",
    "                            / float(theta_hat[i]*gap)).T\n",
    "\n",
    "    var = np.sqrt(np.diag(np.linalg.inv(dl_dtheta @ dl_dtheta.T)))\n",
    "    return var\n",
    "\n",
    "\n",
    "se = ml_se(beta_hat)\n",
    "\n",
    "\n",
    "print  ( '{:>5} {:>10}  {:>10}  {:>9}'.format('', 'beta1', 'beta2', 'sigma'))  \n",
    "print  ( '{:>5} {:>10.5f}  {:>10.5f} {:>10.5f}'.format( 'est:', beta_hat[0], beta_hat[1], beta_hat[2]))  \n",
    "print  ( '{:>5} {:>10.5f}  {:>10.5f} {:>10.5f}'.format( 'se:', se[0], se[1], se[2]))  "
   ]
  },
  {
   "cell_type": "markdown",
   "metadata": {},
   "source": [
    "# Chile.dta"
   ]
  },
  {
   "cell_type": "code",
   "execution_count": 11,
   "metadata": {
    "ExecuteTime": {
     "end_time": "2020-04-14T09:19:09.268090Z",
     "start_time": "2020-04-14T09:19:09.248145Z"
    }
   },
   "outputs": [],
   "source": [
    "chile = pd.read_stata('chile.dta')"
   ]
  },
  {
   "cell_type": "code",
   "execution_count": 12,
   "metadata": {
    "ExecuteTime": {
     "end_time": "2020-04-14T09:19:09.290032Z",
     "start_time": "2020-04-14T09:19:09.270086Z"
    }
   },
   "outputs": [
    {
     "data": {
      "text/html": [
       "<div>\n",
       "<style scoped>\n",
       "    .dataframe tbody tr th:only-of-type {\n",
       "        vertical-align: middle;\n",
       "    }\n",
       "\n",
       "    .dataframe tbody tr th {\n",
       "        vertical-align: top;\n",
       "    }\n",
       "\n",
       "    .dataframe thead th {\n",
       "        text-align: right;\n",
       "    }\n",
       "</style>\n",
       "<table border=\"1\" class=\"dataframe\">\n",
       "  <thead>\n",
       "    <tr style=\"text-align: right;\">\n",
       "      <th></th>\n",
       "      <th>ciiu_3d</th>\n",
       "      <th>id</th>\n",
       "      <th>year</th>\n",
       "      <th>routput</th>\n",
       "      <th>totlab</th>\n",
       "      <th>renerg</th>\n",
       "      <th>realmats</th>\n",
       "      <th>rcapstock</th>\n",
       "      <th>rinvest</th>\n",
       "    </tr>\n",
       "  </thead>\n",
       "  <tbody>\n",
       "    <tr>\n",
       "      <th>0</th>\n",
       "      <td>311</td>\n",
       "      <td>18.0</td>\n",
       "      <td>1979</td>\n",
       "      <td>3.464455e+04</td>\n",
       "      <td>29.752502</td>\n",
       "      <td>3669.071289</td>\n",
       "      <td>19116.718750</td>\n",
       "      <td>36556.449219</td>\n",
       "      <td>0.000000</td>\n",
       "    </tr>\n",
       "    <tr>\n",
       "      <th>1</th>\n",
       "      <td>311</td>\n",
       "      <td>18.0</td>\n",
       "      <td>1980</td>\n",
       "      <td>4.049039e+04</td>\n",
       "      <td>25.526295</td>\n",
       "      <td>1345.034546</td>\n",
       "      <td>28933.464844</td>\n",
       "      <td>33218.750000</td>\n",
       "      <td>0.000000</td>\n",
       "    </tr>\n",
       "    <tr>\n",
       "      <th>2</th>\n",
       "      <td>311</td>\n",
       "      <td>18.0</td>\n",
       "      <td>1981</td>\n",
       "      <td>2.295000e+04</td>\n",
       "      <td>15.840635</td>\n",
       "      <td>536.178467</td>\n",
       "      <td>17161.011719</td>\n",
       "      <td>30198.923828</td>\n",
       "      <td>0.000000</td>\n",
       "    </tr>\n",
       "    <tr>\n",
       "      <th>3</th>\n",
       "      <td>311</td>\n",
       "      <td>54.0</td>\n",
       "      <td>1979</td>\n",
       "      <td>2.806862e+04</td>\n",
       "      <td>31.058437</td>\n",
       "      <td>2297.619873</td>\n",
       "      <td>12696.578125</td>\n",
       "      <td>3985.870605</td>\n",
       "      <td>0.000000</td>\n",
       "    </tr>\n",
       "    <tr>\n",
       "      <th>4</th>\n",
       "      <td>311</td>\n",
       "      <td>54.0</td>\n",
       "      <td>1980</td>\n",
       "      <td>2.928181e+04</td>\n",
       "      <td>31.058437</td>\n",
       "      <td>2692.184082</td>\n",
       "      <td>15695.653320</td>\n",
       "      <td>3474.200928</td>\n",
       "      <td>0.000000</td>\n",
       "    </tr>\n",
       "    <tr>\n",
       "      <th>...</th>\n",
       "      <td>...</td>\n",
       "      <td>...</td>\n",
       "      <td>...</td>\n",
       "      <td>...</td>\n",
       "      <td>...</td>\n",
       "      <td>...</td>\n",
       "      <td>...</td>\n",
       "      <td>...</td>\n",
       "      <td>...</td>\n",
       "    </tr>\n",
       "    <tr>\n",
       "      <th>20725</th>\n",
       "      <td>311</td>\n",
       "      <td>266823.0</td>\n",
       "      <td>1996</td>\n",
       "      <td>3.163177e+04</td>\n",
       "      <td>61.043755</td>\n",
       "      <td>920.380798</td>\n",
       "      <td>16618.185547</td>\n",
       "      <td>6247.899414</td>\n",
       "      <td>0.000000</td>\n",
       "    </tr>\n",
       "    <tr>\n",
       "      <th>20726</th>\n",
       "      <td>311</td>\n",
       "      <td>266859.0</td>\n",
       "      <td>1996</td>\n",
       "      <td>5.289612e+04</td>\n",
       "      <td>42.613331</td>\n",
       "      <td>4469.363770</td>\n",
       "      <td>54625.023438</td>\n",
       "      <td>103986.210938</td>\n",
       "      <td>-110.619934</td>\n",
       "    </tr>\n",
       "    <tr>\n",
       "      <th>20727</th>\n",
       "      <td>311</td>\n",
       "      <td>266913.0</td>\n",
       "      <td>1996</td>\n",
       "      <td>1.272255e+06</td>\n",
       "      <td>447.946442</td>\n",
       "      <td>220187.546875</td>\n",
       "      <td>261003.890625</td>\n",
       "      <td>55586.757812</td>\n",
       "      <td>1079.955322</td>\n",
       "    </tr>\n",
       "    <tr>\n",
       "      <th>20728</th>\n",
       "      <td>311</td>\n",
       "      <td>267057.0</td>\n",
       "      <td>1996</td>\n",
       "      <td>1.675325e+04</td>\n",
       "      <td>12.709174</td>\n",
       "      <td>585.734192</td>\n",
       "      <td>13528.258789</td>\n",
       "      <td>1738.448730</td>\n",
       "      <td>0.000000</td>\n",
       "    </tr>\n",
       "    <tr>\n",
       "      <th>20729</th>\n",
       "      <td>311</td>\n",
       "      <td>267075.0</td>\n",
       "      <td>1996</td>\n",
       "      <td>4.759298e+04</td>\n",
       "      <td>26.235617</td>\n",
       "      <td>2258.537109</td>\n",
       "      <td>737.644043</td>\n",
       "      <td>91328.000000</td>\n",
       "      <td>0.000000</td>\n",
       "    </tr>\n",
       "  </tbody>\n",
       "</table>\n",
       "<p>20730 rows × 9 columns</p>\n",
       "</div>"
      ],
      "text/plain": [
       "       ciiu_3d        id  year       routput      totlab         renerg  \\\n",
       "0          311      18.0  1979  3.464455e+04   29.752502    3669.071289   \n",
       "1          311      18.0  1980  4.049039e+04   25.526295    1345.034546   \n",
       "2          311      18.0  1981  2.295000e+04   15.840635     536.178467   \n",
       "3          311      54.0  1979  2.806862e+04   31.058437    2297.619873   \n",
       "4          311      54.0  1980  2.928181e+04   31.058437    2692.184082   \n",
       "...        ...       ...   ...           ...         ...            ...   \n",
       "20725      311  266823.0  1996  3.163177e+04   61.043755     920.380798   \n",
       "20726      311  266859.0  1996  5.289612e+04   42.613331    4469.363770   \n",
       "20727      311  266913.0  1996  1.272255e+06  447.946442  220187.546875   \n",
       "20728      311  267057.0  1996  1.675325e+04   12.709174     585.734192   \n",
       "20729      311  267075.0  1996  4.759298e+04   26.235617    2258.537109   \n",
       "\n",
       "            realmats      rcapstock      rinvest  \n",
       "0       19116.718750   36556.449219     0.000000  \n",
       "1       28933.464844   33218.750000     0.000000  \n",
       "2       17161.011719   30198.923828     0.000000  \n",
       "3       12696.578125    3985.870605     0.000000  \n",
       "4       15695.653320    3474.200928     0.000000  \n",
       "...              ...            ...          ...  \n",
       "20725   16618.185547    6247.899414     0.000000  \n",
       "20726   54625.023438  103986.210938  -110.619934  \n",
       "20727  261003.890625   55586.757812  1079.955322  \n",
       "20728   13528.258789    1738.448730     0.000000  \n",
       "20729     737.644043   91328.000000     0.000000  \n",
       "\n",
       "[20730 rows x 9 columns]"
      ]
     },
     "execution_count": 12,
     "metadata": {},
     "output_type": "execute_result"
    }
   ],
   "source": [
    "chile"
   ]
  },
  {
   "cell_type": "code",
   "execution_count": 13,
   "metadata": {
    "ExecuteTime": {
     "end_time": "2020-04-14T09:19:09.421686Z",
     "start_time": "2020-04-14T09:19:09.292026Z"
    }
   },
   "outputs": [
    {
     "name": "stdout",
     "output_type": "stream",
     "text": [
      "total number of unique firms: 2673\n"
     ]
    },
    {
     "data": {
      "text/plain": [
       "<matplotlib.axes._subplots.AxesSubplot at 0x1643a4d7688>"
      ]
     },
     "execution_count": 13,
     "metadata": {},
     "output_type": "execute_result"
    },
    {
     "data": {
      "image/png": "[encoded data removed]",
      "text/plain": [
       "<Figure size 432x288 with 1 Axes>"
      ]
     },
     "metadata": {},
     "output_type": "display_data"
    }
   ],
   "source": [
    "# How many unique ﬁrms are included in this dataset?\n",
    "print('total number of unique firms:', len(chile['id'].unique()))\n",
    "\n",
    "chile.groupby(['year'])['id'].count().plot(xlim = (1979, 1996)) "
   ]
  },
  {
   "cell_type": "code",
   "execution_count": 28,
   "metadata": {
    "ExecuteTime": {
     "end_time": "2020-04-14T09:30:17.357773Z",
     "start_time": "2020-04-14T09:30:17.337850Z"
    }
   },
   "outputs": [
    {
     "name": "stdout",
     "output_type": "stream",
     "text": [
      "average duration: 7.807706696595585\n",
      "maximum duration: 18\n",
      "minimum duration: 1\n"
     ]
    }
   ],
   "source": [
    "# On average, how many years of observation do we have for all the ﬁrms? Also, what is the longest and shortest duration?\n",
    "\n",
    "chile['yob'] = chile.groupby(['id'])['year'].transform(min)\n",
    "\n",
    "chile['age'] = chile['year'] - chile['yob'] + 1\n",
    "\n",
    "chile['max_age'] =  chile.groupby(['id'])['age'].transform(max)\n",
    "\n",
    "print('average duration:', chile.groupby(['id'])['max_age'].mean().mean())\n",
    "\n",
    "print('maximum duration:', chile['max_age'].max())\n",
    "\n",
    "print('minimum duration:', chile['max_age'].min())"
   ]
  },
  {
   "cell_type": "code",
   "execution_count": 15,
   "metadata": {
    "ExecuteTime": {
     "end_time": "2020-04-14T09:19:09.473547Z",
     "start_time": "2020-04-14T09:19:09.458581Z"
    }
   },
   "outputs": [
    {
     "data": {
      "text/html": [
       "<div>\n",
       "<style scoped>\n",
       "    .dataframe tbody tr th:only-of-type {\n",
       "        vertical-align: middle;\n",
       "    }\n",
       "\n",
       "    .dataframe tbody tr th {\n",
       "        vertical-align: top;\n",
       "    }\n",
       "\n",
       "    .dataframe thead th {\n",
       "        text-align: right;\n",
       "    }\n",
       "</style>\n",
       "<table border=\"1\" class=\"dataframe\">\n",
       "  <thead>\n",
       "    <tr style=\"text-align: right;\">\n",
       "      <th></th>\n",
       "      <th>routput</th>\n",
       "      <th>totlab</th>\n",
       "      <th>renerg</th>\n",
       "      <th>realmats</th>\n",
       "      <th>rcapstock</th>\n",
       "      <th>rinvest</th>\n",
       "    </tr>\n",
       "  </thead>\n",
       "  <tbody>\n",
       "    <tr>\n",
       "      <th>routput</th>\n",
       "      <td>1.000000</td>\n",
       "      <td>0.738028</td>\n",
       "      <td>0.627440</td>\n",
       "      <td>0.958528</td>\n",
       "      <td>0.644604</td>\n",
       "      <td>0.397732</td>\n",
       "    </tr>\n",
       "    <tr>\n",
       "      <th>totlab</th>\n",
       "      <td>0.738028</td>\n",
       "      <td>1.000000</td>\n",
       "      <td>0.545575</td>\n",
       "      <td>0.688555</td>\n",
       "      <td>0.606957</td>\n",
       "      <td>0.393596</td>\n",
       "    </tr>\n",
       "    <tr>\n",
       "      <th>renerg</th>\n",
       "      <td>0.627440</td>\n",
       "      <td>0.545575</td>\n",
       "      <td>1.000000</td>\n",
       "      <td>0.572255</td>\n",
       "      <td>0.624652</td>\n",
       "      <td>0.338236</td>\n",
       "    </tr>\n",
       "    <tr>\n",
       "      <th>realmats</th>\n",
       "      <td>0.958528</td>\n",
       "      <td>0.688555</td>\n",
       "      <td>0.572255</td>\n",
       "      <td>1.000000</td>\n",
       "      <td>0.582926</td>\n",
       "      <td>0.361691</td>\n",
       "    </tr>\n",
       "    <tr>\n",
       "      <th>rcapstock</th>\n",
       "      <td>0.644604</td>\n",
       "      <td>0.606957</td>\n",
       "      <td>0.624652</td>\n",
       "      <td>0.582926</td>\n",
       "      <td>1.000000</td>\n",
       "      <td>0.502015</td>\n",
       "    </tr>\n",
       "    <tr>\n",
       "      <th>rinvest</th>\n",
       "      <td>0.397732</td>\n",
       "      <td>0.393596</td>\n",
       "      <td>0.338236</td>\n",
       "      <td>0.361691</td>\n",
       "      <td>0.502015</td>\n",
       "      <td>1.000000</td>\n",
       "    </tr>\n",
       "  </tbody>\n",
       "</table>\n",
       "</div>"
      ],
      "text/plain": [
       "            routput    totlab    renerg  realmats  rcapstock   rinvest\n",
       "routput    1.000000  0.738028  0.627440  0.958528   0.644604  0.397732\n",
       "totlab     0.738028  1.000000  0.545575  0.688555   0.606957  0.393596\n",
       "renerg     0.627440  0.545575  1.000000  0.572255   0.624652  0.338236\n",
       "realmats   0.958528  0.688555  0.572255  1.000000   0.582926  0.361691\n",
       "rcapstock  0.644604  0.606957  0.624652  0.582926   1.000000  0.502015\n",
       "rinvest    0.397732  0.393596  0.338236  0.361691   0.502015  1.000000"
      ]
     },
     "execution_count": 15,
     "metadata": {},
     "output_type": "execute_result"
    }
   ],
   "source": [
    "# correlation matrix \n",
    "\n",
    "chile[chile.columns[3:9]].corr()"
   ]
  },
  {
   "cell_type": "code",
   "execution_count": 16,
   "metadata": {
    "ExecuteTime": {
     "end_time": "2020-04-14T09:19:09.623748Z",
     "start_time": "2020-04-14T09:19:09.474541Z"
    }
   },
   "outputs": [
    {
     "data": {
      "text/plain": [
       "<matplotlib.axes._subplots.AxesSubplot at 0x1643aa01048>"
      ]
     },
     "execution_count": 16,
     "metadata": {},
     "output_type": "execute_result"
    },
    {
     "data": {
      "image/png": "[encoded data removed]",
      "text/plain": [
       "<Figure size 432x288 with 1 Axes>"
      ]
     },
     "metadata": {},
     "output_type": "display_data"
    }
   ],
   "source": [
    "# the industry average for each year, and plot time series plots\n",
    "\n",
    "ts_mean = chile.groupby('year').mean() \n",
    "\n",
    "# just change the y-axis input to other column names\n",
    "ts_mean.plot(y='renerg', xlim = (1979, 1996))"
   ]
  },
  {
   "cell_type": "code",
   "execution_count": 24,
   "metadata": {
    "ExecuteTime": {
     "end_time": "2020-04-14T09:26:10.423373Z",
     "start_time": "2020-04-14T09:26:10.391458Z"
    }
   },
   "outputs": [
    {
     "name": "stdout",
     "output_type": "stream",
     "text": [
      "                            OLS Regression Results                            \n",
      "==============================================================================\n",
      "Dep. Variable:                      y   R-squared:                       0.963\n",
      "Model:                            OLS   Adj. R-squared:                  0.963\n",
      "Method:                 Least Squares   F-statistic:                 1.359e+05\n",
      "Date:                Tue, 14 Apr 2020   Prob (F-statistic):               0.00\n",
      "Time:                        17:26:10   Log-Likelihood:                -4619.4\n",
      "No. Observations:               20717   AIC:                             9249.\n",
      "Df Residuals:                   20712   BIC:                             9289.\n",
      "Df Model:                           4                                         \n",
      "Covariance Type:            nonrobust                                         \n",
      "==============================================================================\n",
      "                 coef    std err          t      P>|t|      [0.025      0.975]\n",
      "------------------------------------------------------------------------------\n",
      "const          1.3535      0.015     89.079      0.000       1.324       1.383\n",
      "l              0.1643      0.004     42.376      0.000       0.157       0.172\n",
      "e              0.1025      0.002     45.094      0.000       0.098       0.107\n",
      "m              0.7352      0.003    290.483      0.000       0.730       0.740\n",
      "k              0.0644      0.002     38.010      0.000       0.061       0.068\n",
      "==============================================================================\n",
      "Omnibus:                    10161.911   Durbin-Watson:                   1.031\n",
      "Prob(Omnibus):                  0.000   Jarque-Bera (JB):           136680.018\n",
      "Skew:                           2.025   Prob(JB):                         0.00\n",
      "Kurtosis:                      14.914   Cond. No.                         124.\n",
      "==============================================================================\n",
      "\n",
      "Warnings:\n",
      "[1] Standard Errors assume that the covariance matrix of the errors is correctly specified.\n"
     ]
    },
    {
     "name": "stderr",
     "output_type": "stream",
     "text": [
      "C:\\ProgramData\\Anaconda3\\lib\\site-packages\\ipykernel_launcher.py:6: RuntimeWarning: invalid value encountered in log\n",
      "  \n"
     ]
    }
   ],
   "source": [
    "# OLS for this question \n",
    "\n",
    "chile['const'] = 1\n",
    "\n",
    "\n",
    "chile[['y', 'l', 'e', 'm', 'k']] = np.log(chile[chile.columns[3:8]]) \n",
    "\n",
    "X = sm.add_constant(chile[['l', 'e', 'm', 'k']])\n",
    "\n",
    "import statsmodels.api as sm\n",
    "\n",
    "reg1 = sm.OLS(endog=chile['y'], exog=X, missing='drop')\n",
    "\n",
    "results = reg1.fit()\n",
    "print(results.summary())"
   ]
  },
  {
   "cell_type": "code",
   "execution_count": 18,
   "metadata": {
    "ExecuteTime": {
     "end_time": "2020-04-14T09:19:09.842641Z",
     "start_time": "2020-04-14T09:19:09.667597Z"
    }
   },
   "outputs": [
    {
     "name": "stdout",
     "output_type": "stream",
     "text": [
      "year\n",
      "1979    1345.0\n",
      "1980      95.0\n",
      "1981      47.0\n",
      "1982      41.0\n",
      "1983      47.0\n",
      "1984      74.0\n",
      "1985      69.0\n",
      "1986      67.0\n",
      "1987     139.0\n",
      "1988      76.0\n",
      "1989      58.0\n",
      "1990      63.0\n",
      "1991      64.0\n",
      "1992      96.0\n",
      "1993      60.0\n",
      "1994      55.0\n",
      "1995      83.0\n",
      "1996     194.0\n",
      "Name: entry, dtype: float64\n"
     ]
    },
    {
     "data": {
      "text/plain": [
       "<matplotlib.axes._subplots.AxesSubplot at 0x1643ab04088>"
      ]
     },
     "execution_count": 18,
     "metadata": {},
     "output_type": "execute_result"
    },
    {
     "data": {
      "image/png": "[encoded data removed]",
      "text/plain": [
       "<Figure size 432x288 with 1 Axes>"
      ]
     },
     "metadata": {},
     "output_type": "display_data"
    }
   ],
   "source": [
    "# entries or exits \n",
    "\n",
    "# Let's do entries first \n",
    "\n",
    "chile['entry'] = (chile['year'] - chile['yob']==0)\n",
    "\n",
    "annual_entries = chile.groupby('year')['entry'].sum()\n",
    "\n",
    "print(annual_entries)\n",
    "\n",
    "# We ingnore the very first year since it is the starting year for our dataset \n",
    "# (not very meaning for entries as those firms may enter well before 1979) \n",
    "\n",
    "annual_entries.plot(xlim = (1980, 1996), ylim = (0,200))"
   ]
  },
  {
   "cell_type": "code",
   "execution_count": 19,
   "metadata": {
    "ExecuteTime": {
     "end_time": "2020-04-14T09:19:10.028320Z",
     "start_time": "2020-04-14T09:19:09.843638Z"
    }
   },
   "outputs": [
    {
     "name": "stdout",
     "output_type": "stream",
     "text": [
      "year\n",
      "1979     112.0\n",
      "1980     130.0\n",
      "1981      98.0\n",
      "1982      88.0\n",
      "1983      74.0\n",
      "1984      65.0\n",
      "1985     104.0\n",
      "1986     121.0\n",
      "1987      84.0\n",
      "1988      90.0\n",
      "1989      62.0\n",
      "1990      56.0\n",
      "1991      66.0\n",
      "1992      71.0\n",
      "1993      67.0\n",
      "1994      90.0\n",
      "1995      92.0\n",
      "1996    1203.0\n",
      "Name: exit, dtype: float64\n"
     ]
    },
    {
     "data": {
      "text/plain": [
       "<matplotlib.axes._subplots.AxesSubplot at 0x16437fbfa88>"
      ]
     },
     "execution_count": 19,
     "metadata": {},
     "output_type": "execute_result"
    },
    {
     "data": {
      "image/png": "[encoded data removed]",
      "text/plain": [
       "<Figure size 432x288 with 1 Axes>"
      ]
     },
     "metadata": {},
     "output_type": "display_data"
    }
   ],
   "source": [
    "chile['yoe'] = chile.groupby(['id'])['year'].transform(max)\n",
    "    \n",
    "chile['exit'] = (chile['year'] - chile['yoe']==0)\n",
    "\n",
    "annual_exits = chile.groupby('year')['exit'].sum()\n",
    "\n",
    "\n",
    "print(annual_exits)\n",
    "\n",
    "# Similar to entries, here we ingnore exits in the very last year  \n",
    "\n",
    "annual_exits.plot(xlim = (1979, 1995), ylim = (0,200))"
   ]
  },
  {
   "cell_type": "code",
   "execution_count": 22,
   "metadata": {
    "ExecuteTime": {
     "end_time": "2020-04-14T09:19:36.998368Z",
     "start_time": "2020-04-14T09:19:36.991380Z"
    }
   },
   "outputs": [
    {
     "data": {
      "text/plain": [
       "7.755331088664422"
      ]
     },
     "execution_count": 22,
     "metadata": {},
     "output_type": "execute_result"
    }
   ],
   "source": [
    "chile.id.value_counts().mean()"
   ]
  },
  {
   "cell_type": "code",
   "execution_count": null,
   "metadata": {},
   "outputs": [],
   "source": []
  }
 ],
 "metadata": {
  "kernelspec": {
   "display_name": "Python 3",
   "language": "python",
   "name": "python3"
  },
  "language_info": {
   "codemirror_mode": {
    "name": "ipython",
    "version": 3
   },
   "file_extension": ".py",
   "mimetype": "text/x-python",
   "name": "python",
   "nbconvert_exporter": "python",
   "pygments_lexer": "ipython3",
   "version": "3.7.6"
  },
  "varInspector": {
   "cols": {
    "lenName": 16,
    "lenType": 16,
    "lenVar": 40
   },
   "kernels_config": {
    "python": {
     "delete_cmd_postfix": "",
     "delete_cmd_prefix": "del ",
     "library": "var_list.py",
     "varRefreshCmd": "print(var_dic_list())"
    },
    "r": {
     "delete_cmd_postfix": ") ",
     "delete_cmd_prefix": "rm(",
     "library": "var_list.r",
     "varRefreshCmd": "cat(var_dic_list()) "
    }
   },
   "types_to_exclude": [
    "module",
    "function",
    "builtin_function_or_method",
    "instance",
    "_Feature"
   ],
   "window_display": false
  }
 },
 "nbformat": 4,
 "nbformat_minor": 2
}
