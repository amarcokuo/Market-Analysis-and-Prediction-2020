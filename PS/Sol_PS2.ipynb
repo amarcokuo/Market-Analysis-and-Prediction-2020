{
 "cells": [
  {
   "cell_type": "markdown",
   "metadata": {},
   "source": [
    "# Q1"
   ]
  },
  {
   "cell_type": "code",
   "execution_count": 1,
   "metadata": {
    "ExecuteTime": {
     "end_time": "2020-04-07T07:54:43.132264Z",
     "start_time": "2020-04-07T07:54:42.836637Z"
    }
   },
   "outputs": [],
   "source": [
    "import pandas as pd"
   ]
  },
  {
   "cell_type": "code",
   "execution_count": 2,
   "metadata": {
    "ExecuteTime": {
     "end_time": "2020-04-07T07:54:43.439303Z",
     "start_time": "2020-04-07T07:54:43.133259Z"
    }
   },
   "outputs": [
    {
     "data": {
      "text/html": [
       "<div>\n",
       "<style scoped>\n",
       "    .dataframe tbody tr th:only-of-type {\n",
       "        vertical-align: middle;\n",
       "    }\n",
       "\n",
       "    .dataframe tbody tr th {\n",
       "        vertical-align: top;\n",
       "    }\n",
       "\n",
       "    .dataframe thead th {\n",
       "        text-align: right;\n",
       "    }\n",
       "</style>\n",
       "<table border=\"1\" class=\"dataframe\">\n",
       "  <thead>\n",
       "    <tr style=\"text-align: right;\">\n",
       "      <th></th>\n",
       "      <th>Unnamed: 0</th>\n",
       "      <th>user_id</th>\n",
       "      <th>timestamp</th>\n",
       "      <th>group</th>\n",
       "      <th>landing_page</th>\n",
       "      <th>converted</th>\n",
       "    </tr>\n",
       "  </thead>\n",
       "  <tbody>\n",
       "    <tr>\n",
       "      <th>0</th>\n",
       "      <td>0</td>\n",
       "      <td>851104</td>\n",
       "      <td>2017-01-21 22:11:48.556739</td>\n",
       "      <td>control</td>\n",
       "      <td>old_page</td>\n",
       "      <td>0</td>\n",
       "    </tr>\n",
       "    <tr>\n",
       "      <th>1</th>\n",
       "      <td>1</td>\n",
       "      <td>804228</td>\n",
       "      <td>2017-01-12 08:01:45.159739</td>\n",
       "      <td>control</td>\n",
       "      <td>old_page</td>\n",
       "      <td>0</td>\n",
       "    </tr>\n",
       "    <tr>\n",
       "      <th>2</th>\n",
       "      <td>2</td>\n",
       "      <td>661590</td>\n",
       "      <td>2017-01-11 16:55:06.154213</td>\n",
       "      <td>treatment</td>\n",
       "      <td>new_page</td>\n",
       "      <td>0</td>\n",
       "    </tr>\n",
       "    <tr>\n",
       "      <th>3</th>\n",
       "      <td>3</td>\n",
       "      <td>853541</td>\n",
       "      <td>2017-01-08 18:28:03.143765</td>\n",
       "      <td>treatment</td>\n",
       "      <td>new_page</td>\n",
       "      <td>0</td>\n",
       "    </tr>\n",
       "    <tr>\n",
       "      <th>4</th>\n",
       "      <td>4</td>\n",
       "      <td>864975</td>\n",
       "      <td>2017-01-21 01:52:26.210827</td>\n",
       "      <td>control</td>\n",
       "      <td>old_page</td>\n",
       "      <td>1</td>\n",
       "    </tr>\n",
       "    <tr>\n",
       "      <th>...</th>\n",
       "      <td>...</td>\n",
       "      <td>...</td>\n",
       "      <td>...</td>\n",
       "      <td>...</td>\n",
       "      <td>...</td>\n",
       "      <td>...</td>\n",
       "    </tr>\n",
       "    <tr>\n",
       "      <th>290579</th>\n",
       "      <td>294473</td>\n",
       "      <td>751197</td>\n",
       "      <td>2017-01-03 22:28:38.630509</td>\n",
       "      <td>control</td>\n",
       "      <td>old_page</td>\n",
       "      <td>0</td>\n",
       "    </tr>\n",
       "    <tr>\n",
       "      <th>290580</th>\n",
       "      <td>294474</td>\n",
       "      <td>945152</td>\n",
       "      <td>2017-01-12 00:51:57.078372</td>\n",
       "      <td>control</td>\n",
       "      <td>old_page</td>\n",
       "      <td>0</td>\n",
       "    </tr>\n",
       "    <tr>\n",
       "      <th>290581</th>\n",
       "      <td>294475</td>\n",
       "      <td>734608</td>\n",
       "      <td>2017-01-22 11:45:03.439544</td>\n",
       "      <td>control</td>\n",
       "      <td>old_page</td>\n",
       "      <td>0</td>\n",
       "    </tr>\n",
       "    <tr>\n",
       "      <th>290582</th>\n",
       "      <td>294476</td>\n",
       "      <td>697314</td>\n",
       "      <td>2017-01-15 01:20:28.957438</td>\n",
       "      <td>control</td>\n",
       "      <td>old_page</td>\n",
       "      <td>0</td>\n",
       "    </tr>\n",
       "    <tr>\n",
       "      <th>290583</th>\n",
       "      <td>294477</td>\n",
       "      <td>715931</td>\n",
       "      <td>2017-01-16 12:40:24.467417</td>\n",
       "      <td>treatment</td>\n",
       "      <td>new_page</td>\n",
       "      <td>0</td>\n",
       "    </tr>\n",
       "  </tbody>\n",
       "</table>\n",
       "<p>290584 rows × 6 columns</p>\n",
       "</div>"
      ],
      "text/plain": [
       "        Unnamed: 0  user_id                   timestamp      group  \\\n",
       "0                0   851104  2017-01-21 22:11:48.556739    control   \n",
       "1                1   804228  2017-01-12 08:01:45.159739    control   \n",
       "2                2   661590  2017-01-11 16:55:06.154213  treatment   \n",
       "3                3   853541  2017-01-08 18:28:03.143765  treatment   \n",
       "4                4   864975  2017-01-21 01:52:26.210827    control   \n",
       "...            ...      ...                         ...        ...   \n",
       "290579      294473   751197  2017-01-03 22:28:38.630509    control   \n",
       "290580      294474   945152  2017-01-12 00:51:57.078372    control   \n",
       "290581      294475   734608  2017-01-22 11:45:03.439544    control   \n",
       "290582      294476   697314  2017-01-15 01:20:28.957438    control   \n",
       "290583      294477   715931  2017-01-16 12:40:24.467417  treatment   \n",
       "\n",
       "       landing_page  converted  \n",
       "0          old_page          0  \n",
       "1          old_page          0  \n",
       "2          new_page          0  \n",
       "3          new_page          0  \n",
       "4          old_page          1  \n",
       "...             ...        ...  \n",
       "290579     old_page          0  \n",
       "290580     old_page          0  \n",
       "290581     old_page          0  \n",
       "290582     old_page          0  \n",
       "290583     new_page          0  \n",
       "\n",
       "[290584 rows x 6 columns]"
      ]
     },
     "execution_count": 2,
     "metadata": {},
     "output_type": "execute_result"
    }
   ],
   "source": [
    "df = pd.read_csv('abtest.csv')\n",
    "df"
   ]
  },
  {
   "cell_type": "code",
   "execution_count": 3,
   "metadata": {
    "ExecuteTime": {
     "end_time": "2020-04-07T07:54:43.499649Z",
     "start_time": "2020-04-07T07:54:43.441298Z"
    }
   },
   "outputs": [
    {
     "data": {
      "text/html": [
       "<div>\n",
       "<style scoped>\n",
       "    .dataframe tbody tr th:only-of-type {\n",
       "        vertical-align: middle;\n",
       "    }\n",
       "\n",
       "    .dataframe tbody tr th {\n",
       "        vertical-align: top;\n",
       "    }\n",
       "\n",
       "    .dataframe thead th {\n",
       "        text-align: right;\n",
       "    }\n",
       "</style>\n",
       "<table border=\"1\" class=\"dataframe\">\n",
       "  <thead>\n",
       "    <tr style=\"text-align: right;\">\n",
       "      <th></th>\n",
       "      <th>Unnamed: 0</th>\n",
       "      <th>user_id</th>\n",
       "      <th>timestamp</th>\n",
       "      <th>group</th>\n",
       "      <th>converted</th>\n",
       "    </tr>\n",
       "    <tr>\n",
       "      <th>landing_page</th>\n",
       "      <th></th>\n",
       "      <th></th>\n",
       "      <th></th>\n",
       "      <th></th>\n",
       "      <th></th>\n",
       "    </tr>\n",
       "  </thead>\n",
       "  <tbody>\n",
       "    <tr>\n",
       "      <th>new_page</th>\n",
       "      <td>145320</td>\n",
       "      <td>145320</td>\n",
       "      <td>145320</td>\n",
       "      <td>145320</td>\n",
       "      <td>145320</td>\n",
       "    </tr>\n",
       "    <tr>\n",
       "      <th>old_page</th>\n",
       "      <td>145264</td>\n",
       "      <td>145264</td>\n",
       "      <td>145264</td>\n",
       "      <td>145264</td>\n",
       "      <td>145264</td>\n",
       "    </tr>\n",
       "  </tbody>\n",
       "</table>\n",
       "</div>"
      ],
      "text/plain": [
       "              Unnamed: 0  user_id  timestamp   group  converted\n",
       "landing_page                                                   \n",
       "new_page          145320   145320     145320  145320     145320\n",
       "old_page          145264   145264     145264  145264     145264"
      ]
     },
     "execution_count": 3,
     "metadata": {},
     "output_type": "execute_result"
    }
   ],
   "source": [
    "df.groupby(['landing_page']).count()"
   ]
  },
  {
   "cell_type": "code",
   "execution_count": 4,
   "metadata": {
    "ExecuteTime": {
     "end_time": "2020-04-07T07:54:43.570499Z",
     "start_time": "2020-04-07T07:54:43.500646Z"
    }
   },
   "outputs": [
    {
     "data": {
      "text/html": [
       "<div>\n",
       "<style scoped>\n",
       "    .dataframe tbody tr th:only-of-type {\n",
       "        vertical-align: middle;\n",
       "    }\n",
       "\n",
       "    .dataframe tbody tr th {\n",
       "        vertical-align: top;\n",
       "    }\n",
       "\n",
       "    .dataframe thead th {\n",
       "        text-align: right;\n",
       "    }\n",
       "</style>\n",
       "<table border=\"1\" class=\"dataframe\">\n",
       "  <thead>\n",
       "    <tr style=\"text-align: right;\">\n",
       "      <th></th>\n",
       "      <th></th>\n",
       "      <th>Unnamed: 0</th>\n",
       "      <th>user_id</th>\n",
       "      <th>timestamp</th>\n",
       "      <th>group</th>\n",
       "    </tr>\n",
       "    <tr>\n",
       "      <th>landing_page</th>\n",
       "      <th>converted</th>\n",
       "      <th></th>\n",
       "      <th></th>\n",
       "      <th></th>\n",
       "      <th></th>\n",
       "    </tr>\n",
       "  </thead>\n",
       "  <tbody>\n",
       "    <tr>\n",
       "      <th rowspan=\"2\" valign=\"top\">new_page</th>\n",
       "      <th>0</th>\n",
       "      <td>128064</td>\n",
       "      <td>128064</td>\n",
       "      <td>128064</td>\n",
       "      <td>128064</td>\n",
       "    </tr>\n",
       "    <tr>\n",
       "      <th>1</th>\n",
       "      <td>17256</td>\n",
       "      <td>17256</td>\n",
       "      <td>17256</td>\n",
       "      <td>17256</td>\n",
       "    </tr>\n",
       "    <tr>\n",
       "      <th rowspan=\"2\" valign=\"top\">old_page</th>\n",
       "      <th>0</th>\n",
       "      <td>127775</td>\n",
       "      <td>127775</td>\n",
       "      <td>127775</td>\n",
       "      <td>127775</td>\n",
       "    </tr>\n",
       "    <tr>\n",
       "      <th>1</th>\n",
       "      <td>17489</td>\n",
       "      <td>17489</td>\n",
       "      <td>17489</td>\n",
       "      <td>17489</td>\n",
       "    </tr>\n",
       "  </tbody>\n",
       "</table>\n",
       "</div>"
      ],
      "text/plain": [
       "                        Unnamed: 0  user_id  timestamp   group\n",
       "landing_page converted                                        \n",
       "new_page     0              128064   128064     128064  128064\n",
       "             1               17256    17256      17256   17256\n",
       "old_page     0              127775   127775     127775  127775\n",
       "             1               17489    17489      17489   17489"
      ]
     },
     "execution_count": 4,
     "metadata": {},
     "output_type": "execute_result"
    }
   ],
   "source": [
    "df.groupby(['landing_page', 'converted']).count()"
   ]
  },
  {
   "cell_type": "code",
   "execution_count": 5,
   "metadata": {
    "ExecuteTime": {
     "end_time": "2020-04-07T07:54:43.576481Z",
     "start_time": "2020-04-07T07:54:43.571527Z"
    }
   },
   "outputs": [
    {
     "data": {
      "text/plain": [
       "0.11874483897605285"
      ]
     },
     "execution_count": 5,
     "metadata": {},
     "output_type": "execute_result"
    }
   ],
   "source": [
    "new_convert = 17256/145320\n",
    "new_convert"
   ]
  },
  {
   "cell_type": "code",
   "execution_count": 6,
   "metadata": {
    "ExecuteTime": {
     "end_time": "2020-04-07T07:54:43.583462Z",
     "start_time": "2020-04-07T07:54:43.577492Z"
    }
   },
   "outputs": [
    {
     "data": {
      "text/plain": [
       "0.12039459191540919"
      ]
     },
     "execution_count": 6,
     "metadata": {},
     "output_type": "execute_result"
    }
   ],
   "source": [
    "old_convert = 17489/145264\n",
    "old_convert"
   ]
  },
  {
   "cell_type": "code",
   "execution_count": 7,
   "metadata": {
    "ExecuteTime": {
     "end_time": "2020-04-07T07:54:43.588454Z",
     "start_time": "2020-04-07T07:54:43.584460Z"
    }
   },
   "outputs": [
    {
     "data": {
      "text/plain": [
       "0.1195695564793657"
      ]
     },
     "execution_count": 7,
     "metadata": {},
     "output_type": "execute_result"
    }
   ],
   "source": [
    "all_convert = (17256+17489)/(145264+145320)\n",
    "all_convert"
   ]
  },
  {
   "cell_type": "code",
   "execution_count": 8,
   "metadata": {
    "ExecuteTime": {
     "end_time": "2020-04-07T07:54:44.137767Z",
     "start_time": "2020-04-07T07:54:43.590445Z"
    }
   },
   "outputs": [
    {
     "data": {
      "text/plain": [
       "(-1.3704617576931086, 0.9147285973840954)"
      ]
     },
     "execution_count": 8,
     "metadata": {},
     "output_type": "execute_result"
    }
   ],
   "source": [
    "# statsmodel provides a z-test method for users to conduct the test\n",
    "\n",
    "import statsmodels.api as sm\n",
    "n_new , n_old = 145320 , 145264\n",
    "convert_old = df.query('landing_page == \"old_page\"')['converted'].sum()\n",
    "convert_new = df.query('landing_page == \"new_page\"')['converted'].sum()\n",
    "z_score, p_value = sm.stats.proportions_ztest([convert_new,convert_old],[n_new, n_old],alternative='larger')\n",
    "(z_score, p_value)"
   ]
  },
  {
   "cell_type": "code",
   "execution_count": 9,
   "metadata": {
    "ExecuteTime": {
     "end_time": "2020-04-07T07:54:44.142753Z",
     "start_time": "2020-04-07T07:54:44.138764Z"
    }
   },
   "outputs": [],
   "source": [
    "import math"
   ]
  },
  {
   "cell_type": "code",
   "execution_count": 10,
   "metadata": {
    "ExecuteTime": {
     "end_time": "2020-04-07T07:54:44.149735Z",
     "start_time": "2020-04-07T07:54:44.143751Z"
    }
   },
   "outputs": [
    {
     "data": {
      "text/plain": [
       "-1.3704617576931086"
      ]
     },
     "execution_count": 10,
     "metadata": {},
     "output_type": "execute_result"
    }
   ],
   "source": [
    "# You can also apply the formula in class slides \n",
    "\n",
    "z = (new_convert - old_convert)/math.sqrt(all_convert*(1-all_convert)*(1/145320+1/145264))\n",
    "z"
   ]
  },
  {
   "cell_type": "markdown",
   "metadata": {},
   "source": [
    "# Q2"
   ]
  },
  {
   "cell_type": "code",
   "execution_count": 11,
   "metadata": {
    "ExecuteTime": {
     "end_time": "2020-04-07T07:54:44.175666Z",
     "start_time": "2020-04-07T07:54:44.150735Z"
    }
   },
   "outputs": [
    {
     "data": {
      "text/html": [
       "<div>\n",
       "<style scoped>\n",
       "    .dataframe tbody tr th:only-of-type {\n",
       "        vertical-align: middle;\n",
       "    }\n",
       "\n",
       "    .dataframe tbody tr th {\n",
       "        vertical-align: top;\n",
       "    }\n",
       "\n",
       "    .dataframe thead th {\n",
       "        text-align: right;\n",
       "    }\n",
       "</style>\n",
       "<table border=\"1\" class=\"dataframe\">\n",
       "  <thead>\n",
       "    <tr style=\"text-align: right;\">\n",
       "      <th></th>\n",
       "      <th>c1</th>\n",
       "      <th>c2</th>\n",
       "      <th>e1</th>\n",
       "      <th>e2</th>\n",
       "      <th>praw</th>\n",
       "      <th>pcompete</th>\n",
       "      <th>income</th>\n",
       "      <th>price</th>\n",
       "      <th>q1</th>\n",
       "      <th>q2</th>\n",
       "      <th>quantity</th>\n",
       "    </tr>\n",
       "  </thead>\n",
       "  <tbody>\n",
       "    <tr>\n",
       "      <th>28</th>\n",
       "      <td>-1.868625</td>\n",
       "      <td>2.440158</td>\n",
       "      <td>-3.363524</td>\n",
       "      <td>1.416527</td>\n",
       "      <td>4.675076</td>\n",
       "      <td>1.795920</td>\n",
       "      <td>4.141003</td>\n",
       "      <td>33.870560</td>\n",
       "      <td>10.065448</td>\n",
       "      <td>10.065448</td>\n",
       "      <td>10.065448</td>\n",
       "    </tr>\n",
       "    <tr>\n",
       "      <th>13</th>\n",
       "      <td>1.039922</td>\n",
       "      <td>0.084099</td>\n",
       "      <td>1.871860</td>\n",
       "      <td>2.672694</td>\n",
       "      <td>6.876556</td>\n",
       "      <td>3.715400</td>\n",
       "      <td>13.882836</td>\n",
       "      <td>35.885679</td>\n",
       "      <td>14.657283</td>\n",
       "      <td>14.657283</td>\n",
       "      <td>14.657283</td>\n",
       "    </tr>\n",
       "    <tr>\n",
       "      <th>4</th>\n",
       "      <td>0.631463</td>\n",
       "      <td>0.699119</td>\n",
       "      <td>1.136634</td>\n",
       "      <td>3.178241</td>\n",
       "      <td>8.273219</td>\n",
       "      <td>3.614275</td>\n",
       "      <td>8.051912</td>\n",
       "      <td>35.450698</td>\n",
       "      <td>12.657069</td>\n",
       "      <td>12.657069</td>\n",
       "      <td>12.657069</td>\n",
       "    </tr>\n",
       "    <tr>\n",
       "      <th>31</th>\n",
       "      <td>0.531111</td>\n",
       "      <td>1.466841</td>\n",
       "      <td>0.956000</td>\n",
       "      <td>4.782339</td>\n",
       "      <td>5.095099</td>\n",
       "      <td>11.111024</td>\n",
       "      <td>13.721429</td>\n",
       "      <td>38.190756</td>\n",
       "      <td>16.230054</td>\n",
       "      <td>16.230054</td>\n",
       "      <td>16.230054</td>\n",
       "    </tr>\n",
       "    <tr>\n",
       "      <th>11</th>\n",
       "      <td>-0.224612</td>\n",
       "      <td>0.208030</td>\n",
       "      <td>-0.404301</td>\n",
       "      <td>-0.034405</td>\n",
       "      <td>7.636818</td>\n",
       "      <td>9.352791</td>\n",
       "      <td>8.116127</td>\n",
       "      <td>34.995848</td>\n",
       "      <td>11.366009</td>\n",
       "      <td>11.366009</td>\n",
       "      <td>11.366009</td>\n",
       "    </tr>\n",
       "    <tr>\n",
       "      <th>35</th>\n",
       "      <td>-1.251146</td>\n",
       "      <td>-0.756358</td>\n",
       "      <td>-2.252062</td>\n",
       "      <td>-4.787980</td>\n",
       "      <td>6.172472</td>\n",
       "      <td>0.207647</td>\n",
       "      <td>9.570098</td>\n",
       "      <td>31.286931</td>\n",
       "      <td>8.762049</td>\n",
       "      <td>8.762049</td>\n",
       "      <td>8.762049</td>\n",
       "    </tr>\n",
       "    <tr>\n",
       "      <th>41</th>\n",
       "      <td>0.177278</td>\n",
       "      <td>0.758117</td>\n",
       "      <td>0.319100</td>\n",
       "      <td>2.240692</td>\n",
       "      <td>9.399579</td>\n",
       "      <td>7.077851</td>\n",
       "      <td>13.169622</td>\n",
       "      <td>38.217033</td>\n",
       "      <td>12.377932</td>\n",
       "      <td>12.377932</td>\n",
       "      <td>12.377932</td>\n",
       "    </tr>\n",
       "    <tr>\n",
       "      <th>40</th>\n",
       "      <td>0.506135</td>\n",
       "      <td>0.913162</td>\n",
       "      <td>0.911043</td>\n",
       "      <td>3.394165</td>\n",
       "      <td>0.383643</td>\n",
       "      <td>6.911477</td>\n",
       "      <td>3.375705</td>\n",
       "      <td>30.791051</td>\n",
       "      <td>16.018836</td>\n",
       "      <td>16.018836</td>\n",
       "      <td>16.018836</td>\n",
       "    </tr>\n",
       "    <tr>\n",
       "      <th>27</th>\n",
       "      <td>-0.347763</td>\n",
       "      <td>-0.561369</td>\n",
       "      <td>-0.625974</td>\n",
       "      <td>-2.173570</td>\n",
       "      <td>5.073822</td>\n",
       "      <td>3.443650</td>\n",
       "      <td>6.042404</td>\n",
       "      <td>30.759924</td>\n",
       "      <td>10.948622</td>\n",
       "      <td>10.948622</td>\n",
       "      <td>10.948622</td>\n",
       "    </tr>\n",
       "    <tr>\n",
       "      <th>22</th>\n",
       "      <td>-1.290516</td>\n",
       "      <td>0.163240</td>\n",
       "      <td>-2.322930</td>\n",
       "      <td>-2.674490</td>\n",
       "      <td>3.976995</td>\n",
       "      <td>1.708566</td>\n",
       "      <td>12.006320</td>\n",
       "      <td>32.707658</td>\n",
       "      <td>11.048153</td>\n",
       "      <td>11.048153</td>\n",
       "      <td>11.048153</td>\n",
       "    </tr>\n",
       "    <tr>\n",
       "      <th>24</th>\n",
       "      <td>0.749134</td>\n",
       "      <td>-0.129696</td>\n",
       "      <td>1.348441</td>\n",
       "      <td>1.468671</td>\n",
       "      <td>0.831791</td>\n",
       "      <td>8.463353</td>\n",
       "      <td>8.066764</td>\n",
       "      <td>31.262196</td>\n",
       "      <td>16.355696</td>\n",
       "      <td>16.355696</td>\n",
       "      <td>16.355696</td>\n",
       "    </tr>\n",
       "    <tr>\n",
       "      <th>26</th>\n",
       "      <td>0.155617</td>\n",
       "      <td>-0.982486</td>\n",
       "      <td>0.280110</td>\n",
       "      <td>-1.988221</td>\n",
       "      <td>3.711846</td>\n",
       "      <td>8.854720</td>\n",
       "      <td>1.073198</td>\n",
       "      <td>28.843888</td>\n",
       "      <td>11.918170</td>\n",
       "      <td>11.918170</td>\n",
       "      <td>11.918170</td>\n",
       "    </tr>\n",
       "    <tr>\n",
       "      <th>12</th>\n",
       "      <td>-0.974448</td>\n",
       "      <td>-0.264872</td>\n",
       "      <td>-1.754007</td>\n",
       "      <td>-2.950983</td>\n",
       "      <td>5.915131</td>\n",
       "      <td>11.432086</td>\n",
       "      <td>4.386890</td>\n",
       "      <td>32.193893</td>\n",
       "      <td>9.906591</td>\n",
       "      <td>9.906591</td>\n",
       "      <td>9.906591</td>\n",
       "    </tr>\n",
       "    <tr>\n",
       "      <th>32</th>\n",
       "      <td>-1.275297</td>\n",
       "      <td>-0.030831</td>\n",
       "      <td>-2.295535</td>\n",
       "      <td>-3.104101</td>\n",
       "      <td>0.334568</td>\n",
       "      <td>9.219700</td>\n",
       "      <td>13.596135</td>\n",
       "      <td>32.363569</td>\n",
       "      <td>13.635323</td>\n",
       "      <td>13.635323</td>\n",
       "      <td>13.635323</td>\n",
       "    </tr>\n",
       "    <tr>\n",
       "      <th>43</th>\n",
       "      <td>0.310843</td>\n",
       "      <td>-0.635611</td>\n",
       "      <td>0.559517</td>\n",
       "      <td>-0.786904</td>\n",
       "      <td>8.479842</td>\n",
       "      <td>11.554914</td>\n",
       "      <td>7.971029</td>\n",
       "      <td>34.591802</td>\n",
       "      <td>11.495537</td>\n",
       "      <td>11.495537</td>\n",
       "      <td>11.495537</td>\n",
       "    </tr>\n",
       "  </tbody>\n",
       "</table>\n",
       "</div>"
      ],
      "text/plain": [
       "          c1        c2        e1        e2      praw   pcompete     income  \\\n",
       "28 -1.868625  2.440158 -3.363524  1.416527  4.675076   1.795920   4.141003   \n",
       "13  1.039922  0.084099  1.871860  2.672694  6.876556   3.715400  13.882836   \n",
       "4   0.631463  0.699119  1.136634  3.178241  8.273219   3.614275   8.051912   \n",
       "31  0.531111  1.466841  0.956000  4.782339  5.095099  11.111024  13.721429   \n",
       "11 -0.224612  0.208030 -0.404301 -0.034405  7.636818   9.352791   8.116127   \n",
       "35 -1.251146 -0.756358 -2.252062 -4.787980  6.172472   0.207647   9.570098   \n",
       "41  0.177278  0.758117  0.319100  2.240692  9.399579   7.077851  13.169622   \n",
       "40  0.506135  0.913162  0.911043  3.394165  0.383643   6.911477   3.375705   \n",
       "27 -0.347763 -0.561369 -0.625974 -2.173570  5.073822   3.443650   6.042404   \n",
       "22 -1.290516  0.163240 -2.322930 -2.674490  3.976995   1.708566  12.006320   \n",
       "24  0.749134 -0.129696  1.348441  1.468671  0.831791   8.463353   8.066764   \n",
       "26  0.155617 -0.982486  0.280110 -1.988221  3.711846   8.854720   1.073198   \n",
       "12 -0.974448 -0.264872 -1.754007 -2.950983  5.915131  11.432086   4.386890   \n",
       "32 -1.275297 -0.030831 -2.295535 -3.104101  0.334568   9.219700  13.596135   \n",
       "43  0.310843 -0.635611  0.559517 -0.786904  8.479842  11.554914   7.971029   \n",
       "\n",
       "        price         q1         q2   quantity  \n",
       "28  33.870560  10.065448  10.065448  10.065448  \n",
       "13  35.885679  14.657283  14.657283  14.657283  \n",
       "4   35.450698  12.657069  12.657069  12.657069  \n",
       "31  38.190756  16.230054  16.230054  16.230054  \n",
       "11  34.995848  11.366009  11.366009  11.366009  \n",
       "35  31.286931   8.762049   8.762049   8.762049  \n",
       "41  38.217033  12.377932  12.377932  12.377932  \n",
       "40  30.791051  16.018836  16.018836  16.018836  \n",
       "27  30.759924  10.948622  10.948622  10.948622  \n",
       "22  32.707658  11.048153  11.048153  11.048153  \n",
       "24  31.262196  16.355696  16.355696  16.355696  \n",
       "26  28.843888  11.918170  11.918170  11.918170  \n",
       "12  32.193893   9.906591   9.906591   9.906591  \n",
       "32  32.363569  13.635323  13.635323  13.635323  \n",
       "43  34.591802  11.495537  11.495537  11.495537  "
      ]
     },
     "execution_count": 11,
     "metadata": {},
     "output_type": "execute_result"
    }
   ],
   "source": [
    "de = pd.read_stata('demandIV.dta')\n",
    "de.sample(15)"
   ]
  },
  {
   "cell_type": "code",
   "execution_count": 12,
   "metadata": {
    "ExecuteTime": {
     "end_time": "2020-04-07T07:54:44.195126Z",
     "start_time": "2020-04-07T07:54:44.176663Z"
    }
   },
   "outputs": [
    {
     "data": {
      "text/html": [
       "<div>\n",
       "<style scoped>\n",
       "    .dataframe tbody tr th:only-of-type {\n",
       "        vertical-align: middle;\n",
       "    }\n",
       "\n",
       "    .dataframe tbody tr th {\n",
       "        vertical-align: top;\n",
       "    }\n",
       "\n",
       "    .dataframe thead th {\n",
       "        text-align: right;\n",
       "    }\n",
       "</style>\n",
       "<table border=\"1\" class=\"dataframe\">\n",
       "  <thead>\n",
       "    <tr style=\"text-align: right;\">\n",
       "      <th></th>\n",
       "      <th>const</th>\n",
       "      <th>price</th>\n",
       "      <th>pcompete</th>\n",
       "      <th>income</th>\n",
       "    </tr>\n",
       "  </thead>\n",
       "  <tbody>\n",
       "    <tr>\n",
       "      <th>0</th>\n",
       "      <td>1.0</td>\n",
       "      <td>35.045719</td>\n",
       "      <td>2.550813</td>\n",
       "      <td>9.865897</td>\n",
       "    </tr>\n",
       "    <tr>\n",
       "      <th>1</th>\n",
       "      <td>1.0</td>\n",
       "      <td>31.152198</td>\n",
       "      <td>7.776625</td>\n",
       "      <td>7.113407</td>\n",
       "    </tr>\n",
       "    <tr>\n",
       "      <th>2</th>\n",
       "      <td>1.0</td>\n",
       "      <td>35.633009</td>\n",
       "      <td>10.752018</td>\n",
       "      <td>3.333738</td>\n",
       "    </tr>\n",
       "    <tr>\n",
       "      <th>3</th>\n",
       "      <td>1.0</td>\n",
       "      <td>34.160298</td>\n",
       "      <td>5.486875</td>\n",
       "      <td>12.529627</td>\n",
       "    </tr>\n",
       "    <tr>\n",
       "      <th>4</th>\n",
       "      <td>1.0</td>\n",
       "      <td>35.450698</td>\n",
       "      <td>3.614275</td>\n",
       "      <td>8.051912</td>\n",
       "    </tr>\n",
       "  </tbody>\n",
       "</table>\n",
       "</div>"
      ],
      "text/plain": [
       "   const      price   pcompete     income\n",
       "0    1.0  35.045719   2.550813   9.865897\n",
       "1    1.0  31.152198   7.776625   7.113407\n",
       "2    1.0  35.633009  10.752018   3.333738\n",
       "3    1.0  34.160298   5.486875  12.529627\n",
       "4    1.0  35.450698   3.614275   8.051912"
      ]
     },
     "execution_count": 12,
     "metadata": {},
     "output_type": "execute_result"
    }
   ],
   "source": [
    "# Specify your outcome variable and covariates \n",
    "\n",
    "q = de['quantity']\n",
    "xd = de[['price', 'pcompete', 'income']]\n",
    "xd = sm.add_constant(xd)\n",
    "xd.head()"
   ]
  },
  {
   "cell_type": "code",
   "execution_count": 13,
   "metadata": {
    "ExecuteTime": {
     "end_time": "2020-04-07T07:54:44.506445Z",
     "start_time": "2020-04-07T07:54:44.196122Z"
    }
   },
   "outputs": [
    {
     "data": {
      "text/html": [
       "<table class=\"simpletable\">\n",
       "<caption>OLS Regression Results</caption>\n",
       "<tr>\n",
       "  <th>Dep. Variable:</th>        <td>quantity</td>     <th>  R-squared:         </th> <td>   0.063</td>\n",
       "</tr>\n",
       "<tr>\n",
       "  <th>Model:</th>                   <td>OLS</td>       <th>  Adj. R-squared:    </th> <td>   0.000</td>\n",
       "</tr>\n",
       "<tr>\n",
       "  <th>Method:</th>             <td>Least Squares</td>  <th>  F-statistic:       </th> <td>   1.003</td>\n",
       "</tr>\n",
       "<tr>\n",
       "  <th>Date:</th>             <td>Tue, 07 Apr 2020</td> <th>  Prob (F-statistic):</th>  <td> 0.400</td> \n",
       "</tr>\n",
       "<tr>\n",
       "  <th>Time:</th>                 <td>15:54:44</td>     <th>  Log-Likelihood:    </th> <td> -117.45</td>\n",
       "</tr>\n",
       "<tr>\n",
       "  <th>No. Observations:</th>      <td>    49</td>      <th>  AIC:               </th> <td>   242.9</td>\n",
       "</tr>\n",
       "<tr>\n",
       "  <th>Df Residuals:</th>          <td>    45</td>      <th>  BIC:               </th> <td>   250.5</td>\n",
       "</tr>\n",
       "<tr>\n",
       "  <th>Df Model:</th>              <td>     3</td>      <th>                     </th>     <td> </td>   \n",
       "</tr>\n",
       "<tr>\n",
       "  <th>Covariance Type:</th>      <td>nonrobust</td>    <th>                     </th>     <td> </td>   \n",
       "</tr>\n",
       "</table>\n",
       "<table class=\"simpletable\">\n",
       "<tr>\n",
       "      <td></td>        <th>coef</th>     <th>std err</th>      <th>t</th>      <th>P>|t|</th>  <th>[0.025</th>    <th>0.975]</th>  \n",
       "</tr>\n",
       "<tr>\n",
       "  <th>const</th>    <td>    7.5633</td> <td>    5.019</td> <td>    1.507</td> <td> 0.139</td> <td>   -2.546</td> <td>   17.673</td>\n",
       "</tr>\n",
       "<tr>\n",
       "  <th>price</th>    <td>    0.1186</td> <td>    0.172</td> <td>    0.691</td> <td> 0.493</td> <td>   -0.227</td> <td>    0.464</td>\n",
       "</tr>\n",
       "<tr>\n",
       "  <th>pcompete</th> <td>    0.0946</td> <td>    0.120</td> <td>    0.788</td> <td> 0.435</td> <td>   -0.147</td> <td>    0.336</td>\n",
       "</tr>\n",
       "<tr>\n",
       "  <th>income</th>   <td>    0.0785</td> <td>    0.116</td> <td>    0.677</td> <td> 0.502</td> <td>   -0.155</td> <td>    0.312</td>\n",
       "</tr>\n",
       "</table>\n",
       "<table class=\"simpletable\">\n",
       "<tr>\n",
       "  <th>Omnibus:</th>       <td> 3.082</td> <th>  Durbin-Watson:     </th> <td>   2.366</td>\n",
       "</tr>\n",
       "<tr>\n",
       "  <th>Prob(Omnibus):</th> <td> 0.214</td> <th>  Jarque-Bera (JB):  </th> <td>   2.328</td>\n",
       "</tr>\n",
       "<tr>\n",
       "  <th>Skew:</th>          <td> 0.381</td> <th>  Prob(JB):          </th> <td>   0.312</td>\n",
       "</tr>\n",
       "<tr>\n",
       "  <th>Kurtosis:</th>      <td> 2.251</td> <th>  Cond. No.          </th> <td>    435.</td>\n",
       "</tr>\n",
       "</table><br/><br/>Warnings:<br/>[1] Standard Errors assume that the covariance matrix of the errors is correctly specified."
      ],
      "text/plain": [
       "<class 'statsmodels.iolib.summary.Summary'>\n",
       "\"\"\"\n",
       "                            OLS Regression Results                            \n",
       "==============================================================================\n",
       "Dep. Variable:               quantity   R-squared:                       0.063\n",
       "Model:                            OLS   Adj. R-squared:                  0.000\n",
       "Method:                 Least Squares   F-statistic:                     1.003\n",
       "Date:                Tue, 07 Apr 2020   Prob (F-statistic):              0.400\n",
       "Time:                        15:54:44   Log-Likelihood:                -117.45\n",
       "No. Observations:                  49   AIC:                             242.9\n",
       "Df Residuals:                      45   BIC:                             250.5\n",
       "Df Model:                           3                                         \n",
       "Covariance Type:            nonrobust                                         \n",
       "==============================================================================\n",
       "                 coef    std err          t      P>|t|      [0.025      0.975]\n",
       "------------------------------------------------------------------------------\n",
       "const          7.5633      5.019      1.507      0.139      -2.546      17.673\n",
       "price          0.1186      0.172      0.691      0.493      -0.227       0.464\n",
       "pcompete       0.0946      0.120      0.788      0.435      -0.147       0.336\n",
       "income         0.0785      0.116      0.677      0.502      -0.155       0.312\n",
       "==============================================================================\n",
       "Omnibus:                        3.082   Durbin-Watson:                   2.366\n",
       "Prob(Omnibus):                  0.214   Jarque-Bera (JB):                2.328\n",
       "Skew:                           0.381   Prob(JB):                        0.312\n",
       "Kurtosis:                       2.251   Cond. No.                         435.\n",
       "==============================================================================\n",
       "\n",
       "Warnings:\n",
       "[1] Standard Errors assume that the covariance matrix of the errors is correctly specified.\n",
       "\"\"\""
      ]
     },
     "execution_count": 13,
     "metadata": {},
     "output_type": "execute_result"
    }
   ],
   "source": [
    "demand = sm.OLS(q,xd)\n",
    "results = demand.fit()\n",
    "results.summary()"
   ]
  },
  {
   "cell_type": "markdown",
   "metadata": {},
   "source": [
    "The coefficient in price is positive but insignificant "
   ]
  },
  {
   "cell_type": "code",
   "execution_count": 14,
   "metadata": {
    "ExecuteTime": {
     "end_time": "2020-04-07T07:54:44.518414Z",
     "start_time": "2020-04-07T07:54:44.507443Z"
    }
   },
   "outputs": [
    {
     "data": {
      "text/html": [
       "<div>\n",
       "<style scoped>\n",
       "    .dataframe tbody tr th:only-of-type {\n",
       "        vertical-align: middle;\n",
       "    }\n",
       "\n",
       "    .dataframe tbody tr th {\n",
       "        vertical-align: top;\n",
       "    }\n",
       "\n",
       "    .dataframe thead th {\n",
       "        text-align: right;\n",
       "    }\n",
       "</style>\n",
       "<table border=\"1\" class=\"dataframe\">\n",
       "  <thead>\n",
       "    <tr style=\"text-align: right;\">\n",
       "      <th></th>\n",
       "      <th>const</th>\n",
       "      <th>quantity</th>\n",
       "      <th>praw</th>\n",
       "    </tr>\n",
       "  </thead>\n",
       "  <tbody>\n",
       "    <tr>\n",
       "      <th>0</th>\n",
       "      <td>1.0</td>\n",
       "      <td>11.447209</td>\n",
       "      <td>5.555645</td>\n",
       "    </tr>\n",
       "    <tr>\n",
       "      <th>1</th>\n",
       "      <td>1.0</td>\n",
       "      <td>13.572867</td>\n",
       "      <td>2.725446</td>\n",
       "    </tr>\n",
       "    <tr>\n",
       "      <th>2</th>\n",
       "      <td>1.0</td>\n",
       "      <td>13.858903</td>\n",
       "      <td>9.788842</td>\n",
       "    </tr>\n",
       "    <tr>\n",
       "      <th>3</th>\n",
       "      <td>1.0</td>\n",
       "      <td>10.266434</td>\n",
       "      <td>5.973904</td>\n",
       "    </tr>\n",
       "    <tr>\n",
       "      <th>4</th>\n",
       "      <td>1.0</td>\n",
       "      <td>12.657069</td>\n",
       "      <td>8.273219</td>\n",
       "    </tr>\n",
       "  </tbody>\n",
       "</table>\n",
       "</div>"
      ],
      "text/plain": [
       "   const   quantity      praw\n",
       "0    1.0  11.447209  5.555645\n",
       "1    1.0  13.572867  2.725446\n",
       "2    1.0  13.858903  9.788842\n",
       "3    1.0  10.266434  5.973904\n",
       "4    1.0  12.657069  8.273219"
      ]
     },
     "execution_count": 14,
     "metadata": {},
     "output_type": "execute_result"
    }
   ],
   "source": [
    "p = de['price']\n",
    "xs = de[['quantity', 'praw']]\n",
    "xs = sm.add_constant(xs)\n",
    "xs.head()"
   ]
  },
  {
   "cell_type": "code",
   "execution_count": 15,
   "metadata": {
    "ExecuteTime": {
     "end_time": "2020-04-07T07:54:44.534350Z",
     "start_time": "2020-04-07T07:54:44.519377Z"
    }
   },
   "outputs": [
    {
     "data": {
      "text/html": [
       "<table class=\"simpletable\">\n",
       "<caption>OLS Regression Results</caption>\n",
       "<tr>\n",
       "  <th>Dep. Variable:</th>          <td>price</td>      <th>  R-squared:         </th> <td>   0.663</td>\n",
       "</tr>\n",
       "<tr>\n",
       "  <th>Model:</th>                   <td>OLS</td>       <th>  Adj. R-squared:    </th> <td>   0.648</td>\n",
       "</tr>\n",
       "<tr>\n",
       "  <th>Method:</th>             <td>Least Squares</td>  <th>  F-statistic:       </th> <td>   45.26</td>\n",
       "</tr>\n",
       "<tr>\n",
       "  <th>Date:</th>             <td>Tue, 07 Apr 2020</td> <th>  Prob (F-statistic):</th> <td>1.36e-11</td>\n",
       "</tr>\n",
       "<tr>\n",
       "  <th>Time:</th>                 <td>15:54:44</td>     <th>  Log-Likelihood:    </th> <td> -94.248</td>\n",
       "</tr>\n",
       "<tr>\n",
       "  <th>No. Observations:</th>      <td>    49</td>      <th>  AIC:               </th> <td>   194.5</td>\n",
       "</tr>\n",
       "<tr>\n",
       "  <th>Df Residuals:</th>          <td>    46</td>      <th>  BIC:               </th> <td>   200.2</td>\n",
       "</tr>\n",
       "<tr>\n",
       "  <th>Df Model:</th>              <td>     2</td>      <th>                     </th>     <td> </td>   \n",
       "</tr>\n",
       "<tr>\n",
       "  <th>Covariance Type:</th>      <td>nonrobust</td>    <th>                     </th>     <td> </td>   \n",
       "</tr>\n",
       "</table>\n",
       "<table class=\"simpletable\">\n",
       "<tr>\n",
       "      <td></td>        <th>coef</th>     <th>std err</th>      <th>t</th>      <th>P>|t|</th>  <th>[0.025</th>    <th>0.975]</th>  \n",
       "</tr>\n",
       "<tr>\n",
       "  <th>const</th>    <td>   20.0717</td> <td>    1.573</td> <td>   12.764</td> <td> 0.000</td> <td>   16.906</td> <td>   23.237</td>\n",
       "</tr>\n",
       "<tr>\n",
       "  <th>quantity</th> <td>    0.6726</td> <td>    0.102</td> <td>    6.614</td> <td> 0.000</td> <td>    0.468</td> <td>    0.877</td>\n",
       "</tr>\n",
       "<tr>\n",
       "  <th>praw</th>     <td>    0.8754</td> <td>    0.095</td> <td>    9.190</td> <td> 0.000</td> <td>    0.684</td> <td>    1.067</td>\n",
       "</tr>\n",
       "</table>\n",
       "<table class=\"simpletable\">\n",
       "<tr>\n",
       "  <th>Omnibus:</th>       <td> 6.118</td> <th>  Durbin-Watson:     </th> <td>   2.091</td>\n",
       "</tr>\n",
       "<tr>\n",
       "  <th>Prob(Omnibus):</th> <td> 0.047</td> <th>  Jarque-Bera (JB):  </th> <td>   2.472</td>\n",
       "</tr>\n",
       "<tr>\n",
       "  <th>Skew:</th>          <td> 0.199</td> <th>  Prob(JB):          </th> <td>   0.291</td>\n",
       "</tr>\n",
       "<tr>\n",
       "  <th>Kurtosis:</th>      <td> 1.974</td> <th>  Cond. No.          </th> <td>    88.5</td>\n",
       "</tr>\n",
       "</table><br/><br/>Warnings:<br/>[1] Standard Errors assume that the covariance matrix of the errors is correctly specified."
      ],
      "text/plain": [
       "<class 'statsmodels.iolib.summary.Summary'>\n",
       "\"\"\"\n",
       "                            OLS Regression Results                            \n",
       "==============================================================================\n",
       "Dep. Variable:                  price   R-squared:                       0.663\n",
       "Model:                            OLS   Adj. R-squared:                  0.648\n",
       "Method:                 Least Squares   F-statistic:                     45.26\n",
       "Date:                Tue, 07 Apr 2020   Prob (F-statistic):           1.36e-11\n",
       "Time:                        15:54:44   Log-Likelihood:                -94.248\n",
       "No. Observations:                  49   AIC:                             194.5\n",
       "Df Residuals:                      46   BIC:                             200.2\n",
       "Df Model:                           2                                         \n",
       "Covariance Type:            nonrobust                                         \n",
       "==============================================================================\n",
       "                 coef    std err          t      P>|t|      [0.025      0.975]\n",
       "------------------------------------------------------------------------------\n",
       "const         20.0717      1.573     12.764      0.000      16.906      23.237\n",
       "quantity       0.6726      0.102      6.614      0.000       0.468       0.877\n",
       "praw           0.8754      0.095      9.190      0.000       0.684       1.067\n",
       "==============================================================================\n",
       "Omnibus:                        6.118   Durbin-Watson:                   2.091\n",
       "Prob(Omnibus):                  0.047   Jarque-Bera (JB):                2.472\n",
       "Skew:                           0.199   Prob(JB):                        0.291\n",
       "Kurtosis:                       1.974   Cond. No.                         88.5\n",
       "==============================================================================\n",
       "\n",
       "Warnings:\n",
       "[1] Standard Errors assume that the covariance matrix of the errors is correctly specified.\n",
       "\"\"\""
      ]
     },
     "execution_count": 15,
     "metadata": {},
     "output_type": "execute_result"
    }
   ],
   "source": [
    "supply = sm.OLS(p,xs)\n",
    "results = supply.fit()\n",
    "results.summary()"
   ]
  },
  {
   "cell_type": "markdown",
   "metadata": {},
   "source": [
    "## IV 2sls for demand and supply equations"
   ]
  },
  {
   "cell_type": "code",
   "execution_count": 16,
   "metadata": {
    "ExecuteTime": {
     "end_time": "2020-04-07T07:54:44.863234Z",
     "start_time": "2020-04-07T07:54:44.535336Z"
    }
   },
   "outputs": [],
   "source": [
    "from linearmodels.iv import IV2SLS"
   ]
  },
  {
   "cell_type": "code",
   "execution_count": 17,
   "metadata": {
    "ExecuteTime": {
     "end_time": "2020-04-07T07:54:44.885041Z",
     "start_time": "2020-04-07T07:54:44.864063Z"
    }
   },
   "outputs": [
    {
     "name": "stdout",
     "output_type": "stream",
     "text": [
      "                          IV-2SLS Estimation Summary                          \n",
      "==============================================================================\n",
      "Dep. Variable:               quantity   R-squared:                     -0.8477\n",
      "Estimator:                    IV-2SLS   Adj. R-squared:                -0.9709\n",
      "No. Observations:                  49   F-statistic:                    7.5722\n",
      "Date:                Tue, Apr 07 2020   P-value (F-stat)                0.0557\n",
      "Time:                        15:54:44   Distribution:                  chi2(3)\n",
      "Cov. Estimator:                robust                                         \n",
      "                                                                              \n",
      "                             Parameter Estimates                              \n",
      "==============================================================================\n",
      "            Parameter  Std. Err.     T-stat    P-value    Lower CI    Upper CI\n",
      "------------------------------------------------------------------------------\n",
      "const          39.900     11.582     3.4451     0.0006      17.200      62.599\n",
      "pcompete       0.3320     0.1887     1.7591     0.0786     -0.0379      0.7018\n",
      "income         0.5091     0.2002     2.5423     0.0110      0.1166      0.9015\n",
      "price         -1.0158     0.4013    -2.5312     0.0114     -1.8024     -0.2292\n",
      "==============================================================================\n",
      "\n",
      "Endogenous: price\n",
      "Instruments: praw\n",
      "Robust Covariance (Heteroskedastic)\n",
      "Debiased: False\n"
     ]
    }
   ],
   "source": [
    "demand_IV = IV2SLS(q, xd[['const', 'pcompete', 'income']], xd['price'], xs['praw']).fit(cov_type='robust')\n",
    "print(demand_IV)"
   ]
  },
  {
   "cell_type": "code",
   "execution_count": 18,
   "metadata": {
    "ExecuteTime": {
     "end_time": "2020-04-07T07:54:44.903982Z",
     "start_time": "2020-04-07T07:54:44.886047Z"
    }
   },
   "outputs": [
    {
     "name": "stdout",
     "output_type": "stream",
     "text": [
      "                          IV-2SLS Estimation Summary                          \n",
      "==============================================================================\n",
      "Dep. Variable:                  price   R-squared:                     -0.0150\n",
      "Estimator:                    IV-2SLS   Adj. R-squared:                -0.0592\n",
      "No. Observations:                  49   F-statistic:                    30.992\n",
      "Date:                Tue, Apr 07 2020   P-value (F-stat)                0.0000\n",
      "Time:                        15:54:44   Distribution:                  chi2(2)\n",
      "Cov. Estimator:                robust                                         \n",
      "                                                                              \n",
      "                             Parameter Estimates                              \n",
      "==============================================================================\n",
      "            Parameter  Std. Err.     T-stat    P-value    Lower CI    Upper CI\n",
      "------------------------------------------------------------------------------\n",
      "const          5.6157     7.0537     0.7961     0.4260     -8.2093      19.441\n",
      "praw           1.3204     0.2450     5.3894     0.0000      0.8402      1.8006\n",
      "quantity       1.6511     0.4840     3.4110     0.0006      0.7024      2.5998\n",
      "==============================================================================\n",
      "\n",
      "Endogenous: quantity\n",
      "Instruments: pcompete, income\n",
      "Robust Covariance (Heteroskedastic)\n",
      "Debiased: False\n"
     ]
    }
   ],
   "source": [
    "supply_IV = IV2SLS(p, xs[['const', 'praw']], xs['quantity'], xd[['pcompete', 'income']]).fit(cov_type='robust')\n",
    "print(supply_IV)"
   ]
  },
  {
   "cell_type": "markdown",
   "metadata": {},
   "source": [
    "# Q3"
   ]
  },
  {
   "cell_type": "code",
   "execution_count": 19,
   "metadata": {
    "ExecuteTime": {
     "end_time": "2020-04-07T07:54:44.908942Z",
     "start_time": "2020-04-07T07:54:44.904952Z"
    }
   },
   "outputs": [],
   "source": [
    "import numpy as np"
   ]
  },
  {
   "cell_type": "code",
   "execution_count": 20,
   "metadata": {
    "ExecuteTime": {
     "end_time": "2020-04-07T07:54:44.948867Z",
     "start_time": "2020-04-07T07:54:44.910936Z"
    }
   },
   "outputs": [
    {
     "data": {
      "text/html": [
       "<div>\n",
       "<style scoped>\n",
       "    .dataframe tbody tr th:only-of-type {\n",
       "        vertical-align: middle;\n",
       "    }\n",
       "\n",
       "    .dataframe tbody tr th {\n",
       "        vertical-align: top;\n",
       "    }\n",
       "\n",
       "    .dataframe thead th {\n",
       "        text-align: right;\n",
       "    }\n",
       "</style>\n",
       "<table border=\"1\" class=\"dataframe\">\n",
       "  <thead>\n",
       "    <tr style=\"text-align: right;\">\n",
       "      <th></th>\n",
       "      <th>store</th>\n",
       "      <th>week</th>\n",
       "      <th>brand</th>\n",
       "      <th>sales_</th>\n",
       "      <th>count</th>\n",
       "      <th>price_</th>\n",
       "      <th>prom_</th>\n",
       "      <th>cost_</th>\n",
       "      <th>tot_sales</th>\n",
       "      <th>avg_price</th>\n",
       "      <th>...</th>\n",
       "      <th>brand2</th>\n",
       "      <th>brand3</th>\n",
       "      <th>brand4</th>\n",
       "      <th>brand5</th>\n",
       "      <th>brand6</th>\n",
       "      <th>brand7</th>\n",
       "      <th>brand8</th>\n",
       "      <th>brand9</th>\n",
       "      <th>brand10</th>\n",
       "      <th>brand11</th>\n",
       "    </tr>\n",
       "  </thead>\n",
       "  <tbody>\n",
       "    <tr>\n",
       "      <th>0</th>\n",
       "      <td>2</td>\n",
       "      <td>1</td>\n",
       "      <td>1</td>\n",
       "      <td>16</td>\n",
       "      <td>14181</td>\n",
       "      <td>3.29</td>\n",
       "      <td>0.0</td>\n",
       "      <td>2.06</td>\n",
       "      <td>84.0</td>\n",
       "      <td>3.301250</td>\n",
       "      <td>...</td>\n",
       "      <td>0</td>\n",
       "      <td>0</td>\n",
       "      <td>0</td>\n",
       "      <td>0</td>\n",
       "      <td>0</td>\n",
       "      <td>0</td>\n",
       "      <td>0</td>\n",
       "      <td>0</td>\n",
       "      <td>0</td>\n",
       "      <td>0</td>\n",
       "    </tr>\n",
       "    <tr>\n",
       "      <th>1</th>\n",
       "      <td>116</td>\n",
       "      <td>1</td>\n",
       "      <td>1</td>\n",
       "      <td>9</td>\n",
       "      <td>15246</td>\n",
       "      <td>3.23</td>\n",
       "      <td>0.0</td>\n",
       "      <td>1.99</td>\n",
       "      <td>82.0</td>\n",
       "      <td>3.302083</td>\n",
       "      <td>...</td>\n",
       "      <td>0</td>\n",
       "      <td>0</td>\n",
       "      <td>0</td>\n",
       "      <td>0</td>\n",
       "      <td>0</td>\n",
       "      <td>0</td>\n",
       "      <td>0</td>\n",
       "      <td>0</td>\n",
       "      <td>0</td>\n",
       "      <td>0</td>\n",
       "    </tr>\n",
       "    <tr>\n",
       "      <th>2</th>\n",
       "      <td>12</td>\n",
       "      <td>1</td>\n",
       "      <td>1</td>\n",
       "      <td>22</td>\n",
       "      <td>27267</td>\n",
       "      <td>3.33</td>\n",
       "      <td>0.0</td>\n",
       "      <td>2.11</td>\n",
       "      <td>129.0</td>\n",
       "      <td>3.300694</td>\n",
       "      <td>...</td>\n",
       "      <td>0</td>\n",
       "      <td>0</td>\n",
       "      <td>0</td>\n",
       "      <td>0</td>\n",
       "      <td>0</td>\n",
       "      <td>0</td>\n",
       "      <td>0</td>\n",
       "      <td>0</td>\n",
       "      <td>0</td>\n",
       "      <td>0</td>\n",
       "    </tr>\n",
       "    <tr>\n",
       "      <th>3</th>\n",
       "      <td>77</td>\n",
       "      <td>1</td>\n",
       "      <td>1</td>\n",
       "      <td>14</td>\n",
       "      <td>16474</td>\n",
       "      <td>3.29</td>\n",
       "      <td>0.0</td>\n",
       "      <td>2.06</td>\n",
       "      <td>94.0</td>\n",
       "      <td>3.301250</td>\n",
       "      <td>...</td>\n",
       "      <td>0</td>\n",
       "      <td>0</td>\n",
       "      <td>0</td>\n",
       "      <td>0</td>\n",
       "      <td>0</td>\n",
       "      <td>0</td>\n",
       "      <td>0</td>\n",
       "      <td>0</td>\n",
       "      <td>0</td>\n",
       "      <td>0</td>\n",
       "    </tr>\n",
       "    <tr>\n",
       "      <th>4</th>\n",
       "      <td>54</td>\n",
       "      <td>1</td>\n",
       "      <td>1</td>\n",
       "      <td>15</td>\n",
       "      <td>14636</td>\n",
       "      <td>3.33</td>\n",
       "      <td>0.0</td>\n",
       "      <td>2.11</td>\n",
       "      <td>89.0</td>\n",
       "      <td>3.300694</td>\n",
       "      <td>...</td>\n",
       "      <td>0</td>\n",
       "      <td>0</td>\n",
       "      <td>0</td>\n",
       "      <td>0</td>\n",
       "      <td>0</td>\n",
       "      <td>0</td>\n",
       "      <td>0</td>\n",
       "      <td>0</td>\n",
       "      <td>0</td>\n",
       "      <td>0</td>\n",
       "    </tr>\n",
       "  </tbody>\n",
       "</table>\n",
       "<p>5 rows × 21 columns</p>\n",
       "</div>"
      ],
      "text/plain": [
       "   store  week  brand  sales_  count  price_  prom_  cost_  tot_sales  \\\n",
       "0      2     1      1      16  14181    3.29    0.0   2.06       84.0   \n",
       "1    116     1      1       9  15246    3.23    0.0   1.99       82.0   \n",
       "2     12     1      1      22  27267    3.33    0.0   2.11      129.0   \n",
       "3     77     1      1      14  16474    3.29    0.0   2.06       94.0   \n",
       "4     54     1      1      15  14636    3.33    0.0   2.11       89.0   \n",
       "\n",
       "   avg_price  ...  brand2  brand3  brand4  brand5  brand6  brand7  brand8  \\\n",
       "0   3.301250  ...       0       0       0       0       0       0       0   \n",
       "1   3.302083  ...       0       0       0       0       0       0       0   \n",
       "2   3.300694  ...       0       0       0       0       0       0       0   \n",
       "3   3.301250  ...       0       0       0       0       0       0       0   \n",
       "4   3.300694  ...       0       0       0       0       0       0       0   \n",
       "\n",
       "   brand9  brand10  brand11  \n",
       "0       0        0        0  \n",
       "1       0        0        0  \n",
       "2       0        0        0  \n",
       "3       0        0        0  \n",
       "4       0        0        0  \n",
       "\n",
       "[5 rows x 21 columns]"
      ]
     },
     "execution_count": 20,
     "metadata": {},
     "output_type": "execute_result"
    }
   ],
   "source": [
    "otc = pd.read_stata('otc.dta')\n",
    "otc.head()"
   ]
  },
  {
   "cell_type": "code",
   "execution_count": 21,
   "metadata": {
    "ExecuteTime": {
     "end_time": "2020-04-07T07:54:44.963825Z",
     "start_time": "2020-04-07T07:54:44.950829Z"
    }
   },
   "outputs": [],
   "source": [
    "otc['tot_sales'] = otc.groupby(['store', 'week'])['sales_'].transform('sum')\n",
    "otc['sj'] = otc['sales_'] / otc['count']\n",
    "otc['s0'] = (otc['count'] - otc['tot_sales']) / otc['count']"
   ]
  },
  {
   "cell_type": "code",
   "execution_count": 22,
   "metadata": {
    "ExecuteTime": {
     "end_time": "2020-04-07T07:54:45.013693Z",
     "start_time": "2020-04-07T07:54:44.964791Z"
    }
   },
   "outputs": [
    {
     "data": {
      "text/html": [
       "<div>\n",
       "<style scoped>\n",
       "    .dataframe tbody tr th:only-of-type {\n",
       "        vertical-align: middle;\n",
       "    }\n",
       "\n",
       "    .dataframe tbody tr th {\n",
       "        vertical-align: top;\n",
       "    }\n",
       "\n",
       "    .dataframe thead th {\n",
       "        text-align: right;\n",
       "    }\n",
       "</style>\n",
       "<table border=\"1\" class=\"dataframe\">\n",
       "  <thead>\n",
       "    <tr style=\"text-align: right;\">\n",
       "      <th></th>\n",
       "      <th>const</th>\n",
       "      <th>store</th>\n",
       "      <th>week</th>\n",
       "      <th>brand</th>\n",
       "      <th>sales_</th>\n",
       "      <th>count</th>\n",
       "      <th>price_</th>\n",
       "      <th>prom_</th>\n",
       "      <th>cost_</th>\n",
       "      <th>tot_sales</th>\n",
       "      <th>...</th>\n",
       "      <th>brand5</th>\n",
       "      <th>brand6</th>\n",
       "      <th>brand7</th>\n",
       "      <th>brand8</th>\n",
       "      <th>brand9</th>\n",
       "      <th>brand10</th>\n",
       "      <th>brand11</th>\n",
       "      <th>sj</th>\n",
       "      <th>s0</th>\n",
       "      <th>delta</th>\n",
       "    </tr>\n",
       "  </thead>\n",
       "  <tbody>\n",
       "    <tr>\n",
       "      <th>0</th>\n",
       "      <td>1.0</td>\n",
       "      <td>2</td>\n",
       "      <td>1</td>\n",
       "      <td>1</td>\n",
       "      <td>16</td>\n",
       "      <td>14181</td>\n",
       "      <td>3.29</td>\n",
       "      <td>0.00</td>\n",
       "      <td>2.06</td>\n",
       "      <td>84</td>\n",
       "      <td>...</td>\n",
       "      <td>0</td>\n",
       "      <td>0</td>\n",
       "      <td>0</td>\n",
       "      <td>0</td>\n",
       "      <td>0</td>\n",
       "      <td>0</td>\n",
       "      <td>0</td>\n",
       "      <td>0.001128</td>\n",
       "      <td>0.994077</td>\n",
       "      <td>-6.781129</td>\n",
       "    </tr>\n",
       "    <tr>\n",
       "      <th>1</th>\n",
       "      <td>1.0</td>\n",
       "      <td>116</td>\n",
       "      <td>1</td>\n",
       "      <td>1</td>\n",
       "      <td>9</td>\n",
       "      <td>15246</td>\n",
       "      <td>3.23</td>\n",
       "      <td>0.00</td>\n",
       "      <td>1.99</td>\n",
       "      <td>82</td>\n",
       "      <td>...</td>\n",
       "      <td>0</td>\n",
       "      <td>0</td>\n",
       "      <td>0</td>\n",
       "      <td>0</td>\n",
       "      <td>0</td>\n",
       "      <td>0</td>\n",
       "      <td>0</td>\n",
       "      <td>0.000590</td>\n",
       "      <td>0.994622</td>\n",
       "      <td>-7.429455</td>\n",
       "    </tr>\n",
       "    <tr>\n",
       "      <th>2</th>\n",
       "      <td>1.0</td>\n",
       "      <td>12</td>\n",
       "      <td>1</td>\n",
       "      <td>1</td>\n",
       "      <td>22</td>\n",
       "      <td>27267</td>\n",
       "      <td>3.33</td>\n",
       "      <td>0.00</td>\n",
       "      <td>2.11</td>\n",
       "      <td>129</td>\n",
       "      <td>...</td>\n",
       "      <td>0</td>\n",
       "      <td>0</td>\n",
       "      <td>0</td>\n",
       "      <td>0</td>\n",
       "      <td>0</td>\n",
       "      <td>0</td>\n",
       "      <td>0</td>\n",
       "      <td>0.000807</td>\n",
       "      <td>0.995269</td>\n",
       "      <td>-7.117648</td>\n",
       "    </tr>\n",
       "    <tr>\n",
       "      <th>3</th>\n",
       "      <td>1.0</td>\n",
       "      <td>77</td>\n",
       "      <td>1</td>\n",
       "      <td>1</td>\n",
       "      <td>14</td>\n",
       "      <td>16474</td>\n",
       "      <td>3.29</td>\n",
       "      <td>0.00</td>\n",
       "      <td>2.06</td>\n",
       "      <td>94</td>\n",
       "      <td>...</td>\n",
       "      <td>0</td>\n",
       "      <td>0</td>\n",
       "      <td>0</td>\n",
       "      <td>0</td>\n",
       "      <td>0</td>\n",
       "      <td>0</td>\n",
       "      <td>0</td>\n",
       "      <td>0.000850</td>\n",
       "      <td>0.994294</td>\n",
       "      <td>-7.064759</td>\n",
       "    </tr>\n",
       "    <tr>\n",
       "      <th>4</th>\n",
       "      <td>1.0</td>\n",
       "      <td>54</td>\n",
       "      <td>1</td>\n",
       "      <td>1</td>\n",
       "      <td>15</td>\n",
       "      <td>14636</td>\n",
       "      <td>3.33</td>\n",
       "      <td>0.00</td>\n",
       "      <td>2.11</td>\n",
       "      <td>89</td>\n",
       "      <td>...</td>\n",
       "      <td>0</td>\n",
       "      <td>0</td>\n",
       "      <td>0</td>\n",
       "      <td>0</td>\n",
       "      <td>0</td>\n",
       "      <td>0</td>\n",
       "      <td>0</td>\n",
       "      <td>0.001025</td>\n",
       "      <td>0.993919</td>\n",
       "      <td>-6.877090</td>\n",
       "    </tr>\n",
       "    <tr>\n",
       "      <th>...</th>\n",
       "      <td>...</td>\n",
       "      <td>...</td>\n",
       "      <td>...</td>\n",
       "      <td>...</td>\n",
       "      <td>...</td>\n",
       "      <td>...</td>\n",
       "      <td>...</td>\n",
       "      <td>...</td>\n",
       "      <td>...</td>\n",
       "      <td>...</td>\n",
       "      <td>...</td>\n",
       "      <td>...</td>\n",
       "      <td>...</td>\n",
       "      <td>...</td>\n",
       "      <td>...</td>\n",
       "      <td>...</td>\n",
       "      <td>...</td>\n",
       "      <td>...</td>\n",
       "      <td>...</td>\n",
       "      <td>...</td>\n",
       "      <td>...</td>\n",
       "    </tr>\n",
       "    <tr>\n",
       "      <th>38539</th>\n",
       "      <td>1.0</td>\n",
       "      <td>86</td>\n",
       "      <td>48</td>\n",
       "      <td>11</td>\n",
       "      <td>10</td>\n",
       "      <td>22951</td>\n",
       "      <td>4.09</td>\n",
       "      <td>0.30</td>\n",
       "      <td>1.82</td>\n",
       "      <td>123</td>\n",
       "      <td>...</td>\n",
       "      <td>0</td>\n",
       "      <td>0</td>\n",
       "      <td>0</td>\n",
       "      <td>0</td>\n",
       "      <td>0</td>\n",
       "      <td>0</td>\n",
       "      <td>1</td>\n",
       "      <td>0.000436</td>\n",
       "      <td>0.994641</td>\n",
       "      <td>-7.733158</td>\n",
       "    </tr>\n",
       "    <tr>\n",
       "      <th>38540</th>\n",
       "      <td>1.0</td>\n",
       "      <td>49</td>\n",
       "      <td>48</td>\n",
       "      <td>11</td>\n",
       "      <td>4</td>\n",
       "      <td>12016</td>\n",
       "      <td>4.19</td>\n",
       "      <td>0.50</td>\n",
       "      <td>1.89</td>\n",
       "      <td>56</td>\n",
       "      <td>...</td>\n",
       "      <td>0</td>\n",
       "      <td>0</td>\n",
       "      <td>0</td>\n",
       "      <td>0</td>\n",
       "      <td>0</td>\n",
       "      <td>0</td>\n",
       "      <td>1</td>\n",
       "      <td>0.000333</td>\n",
       "      <td>0.995340</td>\n",
       "      <td>-8.003029</td>\n",
       "    </tr>\n",
       "    <tr>\n",
       "      <th>38541</th>\n",
       "      <td>1.0</td>\n",
       "      <td>103</td>\n",
       "      <td>48</td>\n",
       "      <td>11</td>\n",
       "      <td>32</td>\n",
       "      <td>23546</td>\n",
       "      <td>3.77</td>\n",
       "      <td>0.09</td>\n",
       "      <td>1.60</td>\n",
       "      <td>172</td>\n",
       "      <td>...</td>\n",
       "      <td>0</td>\n",
       "      <td>0</td>\n",
       "      <td>0</td>\n",
       "      <td>0</td>\n",
       "      <td>0</td>\n",
       "      <td>0</td>\n",
       "      <td>1</td>\n",
       "      <td>0.001359</td>\n",
       "      <td>0.992695</td>\n",
       "      <td>-6.593644</td>\n",
       "    </tr>\n",
       "    <tr>\n",
       "      <th>38542</th>\n",
       "      <td>1.0</td>\n",
       "      <td>102</td>\n",
       "      <td>48</td>\n",
       "      <td>11</td>\n",
       "      <td>20</td>\n",
       "      <td>32848</td>\n",
       "      <td>4.08</td>\n",
       "      <td>0.00</td>\n",
       "      <td>1.81</td>\n",
       "      <td>198</td>\n",
       "      <td>...</td>\n",
       "      <td>0</td>\n",
       "      <td>0</td>\n",
       "      <td>0</td>\n",
       "      <td>0</td>\n",
       "      <td>0</td>\n",
       "      <td>0</td>\n",
       "      <td>1</td>\n",
       "      <td>0.000609</td>\n",
       "      <td>0.993972</td>\n",
       "      <td>-7.397868</td>\n",
       "    </tr>\n",
       "    <tr>\n",
       "      <th>38543</th>\n",
       "      <td>1.0</td>\n",
       "      <td>117</td>\n",
       "      <td>48</td>\n",
       "      <td>11</td>\n",
       "      <td>13</td>\n",
       "      <td>14986</td>\n",
       "      <td>4.28</td>\n",
       "      <td>0.38</td>\n",
       "      <td>1.96</td>\n",
       "      <td>93</td>\n",
       "      <td>...</td>\n",
       "      <td>0</td>\n",
       "      <td>0</td>\n",
       "      <td>0</td>\n",
       "      <td>0</td>\n",
       "      <td>0</td>\n",
       "      <td>0</td>\n",
       "      <td>1</td>\n",
       "      <td>0.000867</td>\n",
       "      <td>0.993794</td>\n",
       "      <td>-7.043697</td>\n",
       "    </tr>\n",
       "  </tbody>\n",
       "</table>\n",
       "<p>38544 rows × 25 columns</p>\n",
       "</div>"
      ],
      "text/plain": [
       "       const  store  week  brand  sales_  count  price_  prom_  cost_  \\\n",
       "0        1.0      2     1      1      16  14181    3.29   0.00   2.06   \n",
       "1        1.0    116     1      1       9  15246    3.23   0.00   1.99   \n",
       "2        1.0     12     1      1      22  27267    3.33   0.00   2.11   \n",
       "3        1.0     77     1      1      14  16474    3.29   0.00   2.06   \n",
       "4        1.0     54     1      1      15  14636    3.33   0.00   2.11   \n",
       "...      ...    ...   ...    ...     ...    ...     ...    ...    ...   \n",
       "38539    1.0     86    48     11      10  22951    4.09   0.30   1.82   \n",
       "38540    1.0     49    48     11       4  12016    4.19   0.50   1.89   \n",
       "38541    1.0    103    48     11      32  23546    3.77   0.09   1.60   \n",
       "38542    1.0    102    48     11      20  32848    4.08   0.00   1.81   \n",
       "38543    1.0    117    48     11      13  14986    4.28   0.38   1.96   \n",
       "\n",
       "       tot_sales  ...  brand5  brand6  brand7  brand8  brand9  brand10  \\\n",
       "0             84  ...       0       0       0       0       0        0   \n",
       "1             82  ...       0       0       0       0       0        0   \n",
       "2            129  ...       0       0       0       0       0        0   \n",
       "3             94  ...       0       0       0       0       0        0   \n",
       "4             89  ...       0       0       0       0       0        0   \n",
       "...          ...  ...     ...     ...     ...     ...     ...      ...   \n",
       "38539        123  ...       0       0       0       0       0        0   \n",
       "38540         56  ...       0       0       0       0       0        0   \n",
       "38541        172  ...       0       0       0       0       0        0   \n",
       "38542        198  ...       0       0       0       0       0        0   \n",
       "38543         93  ...       0       0       0       0       0        0   \n",
       "\n",
       "       brand11        sj        s0     delta  \n",
       "0            0  0.001128  0.994077 -6.781129  \n",
       "1            0  0.000590  0.994622 -7.429455  \n",
       "2            0  0.000807  0.995269 -7.117648  \n",
       "3            0  0.000850  0.994294 -7.064759  \n",
       "4            0  0.001025  0.993919 -6.877090  \n",
       "...        ...       ...       ...       ...  \n",
       "38539        1  0.000436  0.994641 -7.733158  \n",
       "38540        1  0.000333  0.995340 -8.003029  \n",
       "38541        1  0.001359  0.992695 -6.593644  \n",
       "38542        1  0.000609  0.993972 -7.397868  \n",
       "38543        1  0.000867  0.993794 -7.043697  \n",
       "\n",
       "[38544 rows x 25 columns]"
      ]
     },
     "execution_count": 22,
     "metadata": {},
     "output_type": "execute_result"
    }
   ],
   "source": [
    "otc['delta'] = np.log(otc['sj']/otc['s0'])\n",
    "otc = sm.add_constant(otc)\n",
    "otc"
   ]
  },
  {
   "cell_type": "code",
   "execution_count": 23,
   "metadata": {
    "ExecuteTime": {
     "end_time": "2020-04-07T07:54:45.113394Z",
     "start_time": "2020-04-07T07:54:45.016686Z"
    }
   },
   "outputs": [
    {
     "name": "stdout",
     "output_type": "stream",
     "text": [
      "                            OLS Estimation Summary                            \n",
      "==============================================================================\n",
      "Dep. Variable:                  delta   R-squared:                      0.0161\n",
      "Estimator:                        OLS   Adj. R-squared:                 0.0160\n",
      "No. Observations:               38544   F-statistic:                    619.55\n",
      "Date:                Tue, Apr 07 2020   P-value (F-stat)                0.0000\n",
      "Time:                        15:54:45   Distribution:                  chi2(2)\n",
      "Cov. Estimator:                robust                                         \n",
      "                                                                              \n",
      "                             Parameter Estimates                              \n",
      "==============================================================================\n",
      "            Parameter  Std. Err.     T-stat    P-value    Lower CI    Upper CI\n",
      "------------------------------------------------------------------------------\n",
      "const         -7.7664     0.0124    -626.01     0.0000     -7.7907     -7.7420\n",
      "price_        -0.0514     0.0026    -19.860     0.0000     -0.0564     -0.0463\n",
      "prom_          0.2132     0.0157     13.601     0.0000      0.1825      0.2439\n",
      "==============================================================================\n"
     ]
    }
   ],
   "source": [
    "ols_demand = IV2SLS(otc['delta'], otc[['const', 'price_', 'prom_']], None, None).fit(cov_type='robust')\n",
    "print(ols_demand)"
   ]
  },
  {
   "cell_type": "code",
   "execution_count": 24,
   "metadata": {
    "ExecuteTime": {
     "end_time": "2020-04-07T07:54:45.125363Z",
     "start_time": "2020-04-07T07:54:45.115388Z"
    }
   },
   "outputs": [],
   "source": [
    "otc['ela_ols'] = -0.0514*otc['price_']*(1-otc['sj'])"
   ]
  },
  {
   "cell_type": "code",
   "execution_count": 25,
   "metadata": {
    "ExecuteTime": {
     "end_time": "2020-04-07T07:54:46.129994Z",
     "start_time": "2020-04-07T07:54:45.127357Z"
    }
   },
   "outputs": [
    {
     "data": {
      "text/plain": [
       "<matplotlib.axes._subplots.AxesSubplot at 0x2b222bf2488>"
      ]
     },
     "execution_count": 25,
     "metadata": {},
     "output_type": "execute_result"
    },
    {
     "data": {
      "image/png": "[encoded data removed]",
      "text/plain": [
       "<Figure size 432x288 with 1 Axes>"
      ]
     },
     "metadata": {},
     "output_type": "display_data"
    }
   ],
   "source": [
    "from matplotlib import pyplot as plt\n",
    "plt.style.use('ggplot')\n",
    "otc['ela_ols'].plot(kind='kde')"
   ]
  },
  {
   "cell_type": "code",
   "execution_count": 26,
   "metadata": {
    "ExecuteTime": {
     "end_time": "2020-04-07T07:54:46.140979Z",
     "start_time": "2020-04-07T07:54:46.130987Z"
    }
   },
   "outputs": [
    {
     "data": {
      "text/plain": [
       "brand\n",
       "1    -0.175677\n",
       "2    -0.253782\n",
       "3    -0.360403\n",
       "4    -0.152235\n",
       "5    -0.264345\n",
       "6    -0.419330\n",
       "7    -0.137365\n",
       "8    -0.185376\n",
       "9    -0.203798\n",
       "10   -0.099075\n",
       "11   -0.228499\n",
       "Name: ela_ols, dtype: float64"
      ]
     },
     "execution_count": 26,
     "metadata": {},
     "output_type": "execute_result"
    }
   ],
   "source": [
    "otc.groupby(['brand'])['ela_ols'].mean()"
   ]
  },
  {
   "cell_type": "markdown",
   "metadata": {},
   "source": [
    "### The price elasticities are all bigger than -1, which mean that those stores are not maximizing profits. This is unlikely to be true. "
   ]
  },
  {
   "cell_type": "markdown",
   "metadata": {},
   "source": [
    "## Adding Brand Dummies could help. "
   ]
  },
  {
   "cell_type": "code",
   "execution_count": 27,
   "metadata": {
    "ExecuteTime": {
     "end_time": "2020-04-07T07:54:46.321446Z",
     "start_time": "2020-04-07T07:54:46.141960Z"
    }
   },
   "outputs": [
    {
     "name": "stdout",
     "output_type": "stream",
     "text": [
      "                          IV-2SLS Estimation Summary                          \n",
      "==============================================================================\n",
      "Dep. Variable:                  delta   R-squared:                      0.4540\n",
      "Estimator:                    IV-2SLS   Adj. R-squared:                 0.4539\n",
      "No. Observations:               38544   F-statistic:                 4.204e+04\n",
      "Date:                Tue, Apr 07 2020   P-value (F-stat)                0.0000\n",
      "Time:                        15:54:46   Distribution:                 chi2(12)\n",
      "Cov. Estimator:                robust                                         \n",
      "                                                                              \n",
      "                             Parameter Estimates                              \n",
      "==============================================================================\n",
      "            Parameter  Std. Err.     T-stat    P-value    Lower CI    Upper CI\n",
      "------------------------------------------------------------------------------\n",
      "const         -5.9396     0.0698    -85.086     0.0000     -6.0764     -5.8027\n",
      "prom_          0.2670     0.0143     18.706     0.0000      0.2390      0.2949\n",
      "brand1         0.5727     0.0230     24.857     0.0000      0.5275      0.6179\n",
      "brand2         1.5766     0.0207     76.137     0.0000      1.5360      1.6172\n",
      "brand3         2.2451     0.0463     48.518     0.0000      2.1544      2.3358\n",
      "brand4         0.0517     0.0288     1.7956     0.0726     -0.0047      0.1081\n",
      "brand5         0.7367     0.0238     31.006     0.0000      0.6901      0.7832\n",
      "brand6         1.5524     0.0634     24.499     0.0000      1.4282      1.6766\n",
      "brand7        -1.2263     0.0321    -38.203     0.0000     -1.2892     -1.1634\n",
      "brand8        -0.9731     0.0239    -40.632     0.0000     -1.0200     -0.9261\n",
      "brand9         0.1500     0.0199     7.5247     0.0000      0.1109      0.1890\n",
      "brand10       -0.9326     0.0432    -21.571     0.0000     -1.0174     -0.8479\n",
      "price_        -0.5468     0.0156    -35.079     0.0000     -0.5774     -0.5163\n",
      "==============================================================================\n",
      "\n",
      "Endogenous: price_\n",
      "Instruments: avg_price\n",
      "Robust Covariance (Heteroskedastic)\n",
      "Debiased: False\n"
     ]
    }
   ],
   "source": [
    "iv_demand = IV2SLS(otc['delta'], otc[['const', 'prom_', 'brand1', 'brand2', 'brand3', 'brand4', 'brand5', 'brand6', 'brand7', 'brand8', 'brand9', 'brand10']], otc['price_'], otc[['avg_price']]).fit(cov_type='robust')\n",
    "print(iv_demand)"
   ]
  },
  {
   "cell_type": "code",
   "execution_count": 28,
   "metadata": {
    "ExecuteTime": {
     "end_time": "2020-04-07T07:54:47.052578Z",
     "start_time": "2020-04-07T07:54:46.324436Z"
    }
   },
   "outputs": [
    {
     "data": {
      "text/plain": [
       "<matplotlib.axes._subplots.AxesSubplot at 0x2b226247288>"
      ]
     },
     "execution_count": 28,
     "metadata": {},
     "output_type": "execute_result"
    },
    {
     "data": {
      "image/png": "[encoded data removed]",
      "text/plain": [
       "<Figure size 432x288 with 1 Axes>"
      ]
     },
     "metadata": {},
     "output_type": "display_data"
    }
   ],
   "source": [
    "otc['ela_dummy'] = -0.5468*otc['price_']*(1-otc['sj'])\n",
    "otc['ela_dummy'].plot(kind='kde')"
   ]
  },
  {
   "cell_type": "code",
   "execution_count": 29,
   "metadata": {
    "ExecuteTime": {
     "end_time": "2020-04-07T07:54:47.062926Z",
     "start_time": "2020-04-07T07:54:47.053576Z"
    }
   },
   "outputs": [
    {
     "data": {
      "text/plain": [
       "brand\n",
       "1    -1.868875\n",
       "2    -2.699763\n",
       "3    -3.834010\n",
       "4    -1.619497\n",
       "5    -2.812137\n",
       "6    -4.460890\n",
       "7    -1.461306\n",
       "8    -1.972057\n",
       "9    -2.168033\n",
       "10   -1.053974\n",
       "11   -2.430799\n",
       "Name: ela_dummy, dtype: float64"
      ]
     },
     "execution_count": 29,
     "metadata": {},
     "output_type": "execute_result"
    }
   ],
   "source": [
    "otc.groupby(['brand'])['ela_dummy'].mean()"
   ]
  },
  {
   "cell_type": "code",
   "execution_count": null,
   "metadata": {
    "ExecuteTime": {
     "end_time": "2020-04-07T07:05:35.526260Z",
     "start_time": "2020-04-07T07:05:35.493377Z"
    }
   },
   "outputs": [],
   "source": [
    " "
   ]
  },
  {
   "cell_type": "code",
   "execution_count": null,
   "metadata": {
    "ExecuteTime": {
     "end_time": "2020-04-07T07:31:03.472127Z",
     "start_time": "2020-04-07T07:31:03.438217Z"
    }
   },
   "outputs": [],
   "source": []
  },
  {
   "cell_type": "code",
   "execution_count": null,
   "metadata": {
    "ExecuteTime": {
     "end_time": "2020-04-07T06:54:31.693106Z",
     "start_time": "2020-04-07T06:54:31.672195Z"
    }
   },
   "outputs": [],
   "source": []
  },
  {
   "cell_type": "code",
   "execution_count": null,
   "metadata": {
    "ExecuteTime": {
     "end_time": "2020-04-07T07:07:57.937954Z",
     "start_time": "2020-04-07T07:07:56.950147Z"
    }
   },
   "outputs": [],
   "source": []
  },
  {
   "cell_type": "code",
   "execution_count": null,
   "metadata": {
    "ExecuteTime": {
     "end_time": "2020-04-07T07:02:03.521571Z",
     "start_time": "2020-04-07T07:02:03.489656Z"
    }
   },
   "outputs": [],
   "source": []
  },
  {
   "cell_type": "code",
   "execution_count": null,
   "metadata": {},
   "outputs": [],
   "source": []
  }
 ],
 "metadata": {
  "kernelspec": {
   "display_name": "Python 3",
   "language": "python",
   "name": "python3"
  },
  "language_info": {
   "codemirror_mode": {
    "name": "ipython",
    "version": 3
   },
   "file_extension": ".py",
   "mimetype": "text/x-python",
   "name": "python",
   "nbconvert_exporter": "python",
   "pygments_lexer": "ipython3",
   "version": "3.7.6"
  },
  "varInspector": {
   "cols": {
    "lenName": 16,
    "lenType": 16,
    "lenVar": 40
   },
   "kernels_config": {
    "python": {
     "delete_cmd_postfix": "",
     "delete_cmd_prefix": "del ",
     "library": "var_list.py",
     "varRefreshCmd": "print(var_dic_list())"
    },
    "r": {
     "delete_cmd_postfix": ") ",
     "delete_cmd_prefix": "rm(",
     "library": "var_list.r",
     "varRefreshCmd": "cat(var_dic_list()) "
    }
   },
   "types_to_exclude": [
    "module",
    "function",
    "builtin_function_or_method",
    "instance",
    "_Feature"
   ],
   "window_display": false
  }
 },
 "nbformat": 4,
 "nbformat_minor": 4
}
