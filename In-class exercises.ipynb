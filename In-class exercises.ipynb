{
 "cells": [
  {
   "cell_type": "markdown",
   "metadata": {
    "ExecuteTime": {
     "end_time": "2020-03-08T14:35:36.212465Z",
     "start_time": "2020-03-08T14:35:36.161671Z"
    }
   },
   "source": [
    "Q1: Using str and int multiplication, write a Python statement which outputs the following line:\n",
    "\n",
    "HelloHelloHelloHelloHelloHelloHelloHelloHelloHello"
   ]
  },
  {
   "cell_type": "code",
   "execution_count": 1,
   "metadata": {
    "ExecuteTime": {
     "end_time": "2020-03-08T14:50:24.576829Z",
     "start_time": "2020-03-08T14:50:24.571846Z"
    }
   },
   "outputs": [
    {
     "name": "stdout",
     "output_type": "stream",
     "text": [
      "HelloHelloHelloHelloHelloHelloHelloHelloHelloHello\n"
     ]
    }
   ],
   "source": [
    "print('Hello'*10)"
   ]
  },
  {
   "cell_type": "markdown",
   "metadata": {},
   "source": [
    "Q2: Write a Python function that takes a positive integer and returns the sum of the square of all the positive integers smaller than the speciﬁed number. Specifically, $f(4)=3^2+2^2+1^2=14$"
   ]
  },
  {
   "cell_type": "code",
   "execution_count": 2,
   "metadata": {
    "ExecuteTime": {
     "end_time": "2020-03-08T14:50:25.768399Z",
     "start_time": "2020-03-08T14:50:25.764410Z"
    }
   },
   "outputs": [],
   "source": [
    "def f(n):\n",
    "    temp = 0\n",
    "    for i in range(n):\n",
    "        temp = temp +i**2\n",
    "    return temp\n",
    "        "
   ]
  },
  {
   "cell_type": "code",
   "execution_count": 3,
   "metadata": {
    "ExecuteTime": {
     "end_time": "2020-03-08T14:50:26.147386Z",
     "start_time": "2020-03-08T14:50:26.136415Z"
    }
   },
   "outputs": [
    {
     "data": {
      "text/plain": [
       "14"
      ]
     },
     "execution_count": 3,
     "metadata": {},
     "output_type": "execute_result"
    }
   ],
   "source": [
    "f(4) "
   ]
  },
  {
   "cell_type": "markdown",
   "metadata": {},
   "source": [
    "Q3: Define a function, $divide()$, which sequentially divides a list of numbers, and outputs the result as the final quotient. For example, $x = [10,5,1]$, and $divide(x) = 10 ÷ 5 ÷ 1 = 2$. (Assume the input list contains only positive integers.)\n"
   ]
  },
  {
   "cell_type": "code",
   "execution_count": 4,
   "metadata": {
    "ExecuteTime": {
     "end_time": "2020-03-08T14:50:26.753087Z",
     "start_time": "2020-03-08T14:50:26.750048Z"
    }
   },
   "outputs": [],
   "source": [
    "def divide(x): \n",
    "    temp = x[0]\n",
    "    for item in x[1:]:\n",
    "        temp = temp / item \n",
    "    return temp"
   ]
  },
  {
   "cell_type": "code",
   "execution_count": 5,
   "metadata": {
    "ExecuteTime": {
     "end_time": "2020-03-08T14:50:27.074348Z",
     "start_time": "2020-03-08T14:50:27.069328Z"
    }
   },
   "outputs": [
    {
     "data": {
      "text/plain": [
       "2.0"
      ]
     },
     "execution_count": 5,
     "metadata": {},
     "output_type": "execute_result"
    }
   ],
   "source": [
    "x = [10, 5, 1]\n",
    "\n",
    "divide(x)"
   ]
  },
  {
   "cell_type": "markdown",
   "metadata": {},
   "source": [
    "Q4: Write a Python function, $mean()$, which can calculate the average of the numerical items in a list and handle exceptions, non-numerical elements. For example, $a = [1, 2, `xxx`, 3, `yyy`, 4, 5]$, $mean(a)= 3.0$\n"
   ]
  },
  {
   "cell_type": "code",
   "execution_count": 6,
   "metadata": {
    "ExecuteTime": {
     "end_time": "2020-03-08T14:50:28.313906Z",
     "start_time": "2020-03-08T14:50:28.309917Z"
    }
   },
   "outputs": [],
   "source": [
    "def mean(a):\n",
    "    temp = 0\n",
    "    length = 0\n",
    "    for item in a: \n",
    "        try: \n",
    "            temp += item\n",
    "            length += 1\n",
    "        except:\n",
    "            temp = temp\n",
    "    return temp / length"
   ]
  },
  {
   "cell_type": "code",
   "execution_count": 7,
   "metadata": {
    "ExecuteTime": {
     "end_time": "2020-03-08T14:50:28.646514Z",
     "start_time": "2020-03-08T14:50:28.641528Z"
    }
   },
   "outputs": [
    {
     "data": {
      "text/plain": [
       "3.0"
      ]
     },
     "execution_count": 7,
     "metadata": {},
     "output_type": "execute_result"
    }
   ],
   "source": [
    "a = [1, 2, 'xxx', 3, 'yyy', 4, 5]\n",
    "mean(a)"
   ]
  },
  {
   "cell_type": "code",
   "execution_count": null,
   "metadata": {},
   "outputs": [],
   "source": []
  },
  {
   "cell_type": "code",
   "execution_count": null,
   "metadata": {},
   "outputs": [],
   "source": []
  }
 ],
 "metadata": {
  "kernelspec": {
   "display_name": "Python 3",
   "language": "python",
   "name": "python3"
  },
  "language_info": {
   "codemirror_mode": {
    "name": "ipython",
    "version": 3
   },
   "file_extension": ".py",
   "mimetype": "text/x-python",
   "name": "python",
   "nbconvert_exporter": "python",
   "pygments_lexer": "ipython3",
   "version": "3.6.5"
  },
  "varInspector": {
   "cols": {
    "lenName": 16,
    "lenType": 16,
    "lenVar": 40
   },
   "kernels_config": {
    "python": {
     "delete_cmd_postfix": "",
     "delete_cmd_prefix": "del ",
     "library": "var_list.py",
     "varRefreshCmd": "print(var_dic_list())"
    },
    "r": {
     "delete_cmd_postfix": ") ",
     "delete_cmd_prefix": "rm(",
     "library": "var_list.r",
     "varRefreshCmd": "cat(var_dic_list()) "
    }
   },
   "types_to_exclude": [
    "module",
    "function",
    "builtin_function_or_method",
    "instance",
    "_Feature"
   ],
   "window_display": false
  }
 },
 "nbformat": 4,
 "nbformat_minor": 2
}
